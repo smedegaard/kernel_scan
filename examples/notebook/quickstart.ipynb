{
 "cells": [
  {
   "cell_type": "markdown",
   "metadata": {},
   "source": [
    "# Kernel Scan - Quick Start Example\n",
    "\n",
    "This notebook demonstrates the kernel_scan library's API as shown in the README's Quick Start section."
   ]
  },
  {
   "cell_type": "code",
   "execution_count": 15,
   "metadata": {},
   "outputs": [],
   "source": [
    "import logging\n",
    "import sys\n",
    "from pathlib import Path\n",
    "import os\n",
    "import polars as pl\n",
    "\n",
    "# Configure logging\n",
    "logging.basicConfig(\n",
    "    level=logging.DEBUG, format=\"%(asctime)s - %(name)s - %(levelname)s - %(message)s\"\n",
    ")\n",
    "log = logging.getLogger(__name__)"
   ]
  },
  {
   "cell_type": "markdown",
   "metadata": {},
   "source": [
    "## Add source directory to path\n",
    "\n",
    "This is important for imports to work correctly when running in a notebook."
   ]
  },
  {
   "cell_type": "code",
   "execution_count": 4,
   "metadata": {},
   "outputs": [
    {
     "name": "stdout",
     "output_type": "stream",
     "text": [
      "Added /home/anders/projects/kernel_scan/src to Python path\n"
     ]
    }
   ],
   "source": [
    "# Add the src directory to sys.path to import kernel_scan\n",
    "# Get the parent directory of the notebook directory (project_root)\n",
    "notebook_path = Path(os.getcwd())\n",
    "project_root = notebook_path.parent.parent\n",
    "src_path = project_root / \"src\"\n",
    "\n",
    "# Add the src path to sys.path if it's not already there\n",
    "if str(src_path) not in sys.path:\n",
    "    sys.path.append(str(src_path))\n",
    "\n",
    "print(f\"Added {src_path} to Python path\")"
   ]
  },
  {
   "cell_type": "markdown",
   "metadata": {},
   "source": [
    "## Import kernel_scan modules\n",
    "\n",
    "Now we can import the necessary modules from kernel_scan."
   ]
  },
  {
   "cell_type": "code",
   "execution_count": 5,
   "metadata": {},
   "outputs": [
    {
     "name": "stdout",
     "output_type": "stream",
     "text": [
      "Successfully imported kernel_scan modules\n"
     ]
    }
   ],
   "source": [
    "try:\n",
    "    # Import kernel_scan modules\n",
    "    from kernel_scan import (\n",
    "        DataType,\n",
    "        EngineType,\n",
    "        KernelSpec,\n",
    "        Layout,\n",
    "        OperationType,\n",
    "        Profiler,\n",
    "    )\n",
    "    from kernel_scan.core.types import TensorSpec\n",
    "    from kernel_scan.ops import GemmParams\n",
    "    from kernel_scan.visualization import generate_gemm_roofline_plots_by_group\n",
    "    \n",
    "    print(\"Successfully imported kernel_scan modules\")\n",
    "except ImportError as e:\n",
    "    log.error(f\"Error importing kernel_scan: {e}\")\n",
    "    log.error(\n",
    "        \"Make sure the kernel_scan package is properly installed or in the Python path.\"\n",
    "    )"
   ]
  },
  {
   "cell_type": "markdown",
   "metadata": {},
   "source": [
    "## Create a GEMM kernel specification\n",
    "\n",
    "First, we'll create a kernel specification for a General Matrix Multiplication (GEMM) operation."
   ]
  },
  {
   "cell_type": "code",
   "execution_count": 6,
   "metadata": {},
   "outputs": [],
   "source": [
    "# Create output directories if they don't exist\n",
    "results_dir = project_root / \"results\"\n",
    "plots_dir = project_root / \"plots\"\n",
    "\n",
    "results_dir.mkdir(exist_ok=True)\n",
    "plots_dir.mkdir(exist_ok=True)"
   ]
  },
  {
   "cell_type": "code",
   "execution_count": 7,
   "metadata": {},
   "outputs": [
    {
     "name": "stderr",
     "output_type": "stream",
     "text": [
      "2025-06-17 15:04:25,939 - __main__ - INFO - Creating GEMM kernel specification...\n",
      "2025-06-17 15:04:25,939 - __main__ - INFO - Kernel specification created successfully.\n"
     ]
    }
   ],
   "source": [
    "# Create a GEMM kernel specification\n",
    "log.info(\"Creating GEMM kernel specification...\")\n",
    "\n",
    "kernel_spec = (\n",
    "    KernelSpec.builder()\n",
    "    .operation_type(OperationType.GEMM)\n",
    "    .data_type(DataType.FLOAT32)\n",
    "    .operation_params(\n",
    "        GemmParams(\n",
    "            m=1024,\n",
    "            n=1024,\n",
    "            k=1024,\n",
    "            alpha=1.0,\n",
    "            beta=0.0,\n",
    "            layout_a=Layout.ROW_MAJOR,\n",
    "            layout_b=Layout.ROW_MAJOR,\n",
    "            layout_c=Layout.ROW_MAJOR,\n",
    "        )\n",
    "    )\n",
    "    .inputs(\n",
    "        a=TensorSpec.create_2d(1024, 1024, Layout.ROW_MAJOR, DataType.FLOAT32),\n",
    "        b=TensorSpec.create_2d(1024, 1024, Layout.ROW_MAJOR, DataType.FLOAT32),\n",
    "    )\n",
    "    .outputs(c=TensorSpec.create_2d(1024, 1024, Layout.ROW_MAJOR, DataType.FLOAT32))\n",
    "    .iterations(10)  # Reduced for quick example\n",
    "    .build()\n",
    ")\n",
    "log.info(\"Kernel specification created successfully.\")"
   ]
  },
  {
   "cell_type": "markdown",
   "metadata": {},
   "source": [
    "## Initialize Profiler and Run Profiling\n",
    "\n",
    "Now we'll initialize the profiler and run the profiling with the ComposableKernel engine."
   ]
  },
  {
   "cell_type": "code",
   "execution_count": 8,
   "metadata": {},
   "outputs": [
    {
     "name": "stderr",
     "output_type": "stream",
     "text": [
      "2025-06-17 15:04:30,607 - __main__ - INFO - Initializing profiler...\n",
      "2025-06-17 15:04:30,607 - __main__ - INFO - Profiling with ComposableKernelEngine...\n",
      "2025-06-17 15:04:30,713 - kernel_scan.core.accelerator - INFO - Detected AMD GPU: Radeon RX 7900 XTX\n",
      "2025-06-17 15:04:30,713 - kernel_scan.core.accelerator - INFO - Found matching GPU model: Radeon RX 7900 XTX from vendor AMD\n",
      "2025-06-17 15:04:30,714 - kernel_scan.engines.composable_kernel_engine - INFO - Detected hardware: Radeon RX 7900 XTX\n",
      "2025-06-17 15:04:30,714 - kernel_scan.engines.composable_kernel_engine - INFO - Running ckProfiler with arguments: /opt/rocm/bin/ckProfiler gemm 0 0 1 0 0 1 1024 1024 1024 1024 1024 1024 2 10 -o jsonl=/home/anders/projects/kernel_scan/results/quickstart_notebook.jsonl\n"
     ]
    },
    {
     "name": "stdout",
     "output_type": "stream",
     "text": [
      "Profiling complete. Results saved to /home/anders/projects/kernel_scan/results/quickstart_notebook.jsonl\n"
     ]
    }
   ],
   "source": [
    "# Profile with a specific engine\n",
    "log.info(\"Initializing profiler...\")\n",
    "profiler = Profiler()\n",
    "\n",
    "log.info(\"Profiling with ComposableKernelEngine...\")\n",
    "try:\n",
    "    # Pass the detected accelerator specs to the profiler\n",
    "    result_set = profiler.profile_with_engine(\n",
    "        kernel_spec,\n",
    "        EngineType.COMPOSABLE_KERNEL,\n",
    "        warmup_iterations=2,\n",
    "        output_file=str(results_dir / \"quickstart_notebook.jsonl\"),\n",
    "    )\n",
    "    print(f\"Profiling complete. Results saved to {results_dir / 'quickstart_notebook.jsonl'}\")\n",
    "except Exception as e:\n",
    "    log.error(f\"Error during profiling: {e}\")\n",
    "    raise e"
   ]
  },
  {
   "cell_type": "markdown",
   "metadata": {},
   "source": [
    "## Visualize Results with Roofline Plot\n",
    "\n",
    "Now we'll visualize the profiling results using a roofline plot."
   ]
  },
  {
   "cell_type": "code",
   "execution_count": 9,
   "metadata": {},
   "outputs": [
    {
     "name": "stdout",
     "output_type": "stream",
     "text": [
      "Result set contains 25 results\n",
      "Accelerator: Radeon RX 7900 XTX\n",
      "Peak compute: 61.4 TFLOPS\n",
      "Peak bandwidth: 960.0 GB/s\n"
     ]
    }
   ],
   "source": [
    "# Add debug to see what's in the results\n",
    "print(f\"Result set contains {len(result_set.results)} results\")\n",
    "print(f\"Accelerator: {result_set.accelerator_specs.name}\")\n",
    "print(f\"Peak compute: {result_set.accelerator_specs.get_peak_compute(DataType.FLOAT32)} TFLOPS\")\n",
    "print(f\"Peak bandwidth: {result_set.accelerator_specs.peak_bandwidth} GB/s\")"
   ]
  },
  {
   "cell_type": "code",
   "execution_count": 10,
   "metadata": {},
   "outputs": [
    {
     "data": {
      "text/html": [
       "<div><style>\n",
       ".dataframe > thead > tr,\n",
       ".dataframe > tbody > tr {\n",
       "  text-align: right;\n",
       "  white-space: pre-wrap;\n",
       "}\n",
       "</style>\n",
       "<small>shape: (5, 17)</small><table border=\"1\" class=\"dataframe\"><thead><tr><th>operation</th><th>time_ms</th><th>tflops</th><th>gb_per_sec</th><th>is_best</th><th>timestamp</th><th>N</th><th>M</th><th>layout_b</th><th>output_datatype</th><th>K</th><th>weight_datatype</th><th>input_datatype</th><th>layout_c</th><th>layout_a</th><th>datatype</th><th>operation_type</th></tr><tr><td>str</td><td>f64</td><td>f64</td><td>f64</td><td>bool</td><td>str</td><td>i64</td><td>i64</td><td>str</td><td>str</td><td>i64</td><td>str</td><td>str</td><td>str</td><td>str</td><td>str</td><td>str</td></tr></thead><tbody><tr><td>&quot;DeviceGemmDl&lt;256, 128, 128, 16…</td><td>0.663739</td><td>3.23543</td><td>18.9576</td><td>false</td><td>&quot;2025-06-17T13:04:31.445Z&quot;</td><td>1024</td><td>1024</td><td>&quot;RowMajor&quot;</td><td>&quot;f32&quot;</td><td>1024</td><td>&quot;f32&quot;</td><td>&quot;f32&quot;</td><td>&quot;RowMajor&quot;</td><td>&quot;RowMajor&quot;</td><td>&quot;f32&quot;</td><td>&quot;gemm&quot;</td></tr><tr><td>&quot;DeviceGemmDl&lt;256, 128, 128, 16…</td><td>0.316627</td><td>6.78237</td><td>39.7404</td><td>false</td><td>&quot;2025-06-17T13:04:31.451Z&quot;</td><td>1024</td><td>1024</td><td>&quot;RowMajor&quot;</td><td>&quot;f32&quot;</td><td>1024</td><td>&quot;f32&quot;</td><td>&quot;f32&quot;</td><td>&quot;RowMajor&quot;</td><td>&quot;RowMajor&quot;</td><td>&quot;f32&quot;</td><td>&quot;gemm&quot;</td></tr><tr><td>&quot;DeviceGemmDl&lt;256, 128, 128, 16…</td><td>0.298055</td><td>7.20499</td><td>42.2167</td><td>false</td><td>&quot;2025-06-17T13:04:31.456Z&quot;</td><td>1024</td><td>1024</td><td>&quot;RowMajor&quot;</td><td>&quot;f32&quot;</td><td>1024</td><td>&quot;f32&quot;</td><td>&quot;f32&quot;</td><td>&quot;RowMajor&quot;</td><td>&quot;RowMajor&quot;</td><td>&quot;f32&quot;</td><td>&quot;gemm&quot;</td></tr><tr><td>&quot;DeviceGemmDl&lt;128, 128, 64, 16,…</td><td>0.250567</td><td>8.57051</td><td>50.2178</td><td>false</td><td>&quot;2025-06-17T13:04:31.461Z&quot;</td><td>1024</td><td>1024</td><td>&quot;RowMajor&quot;</td><td>&quot;f32&quot;</td><td>1024</td><td>&quot;f32&quot;</td><td>&quot;f32&quot;</td><td>&quot;RowMajor&quot;</td><td>&quot;RowMajor&quot;</td><td>&quot;f32&quot;</td><td>&quot;gemm&quot;</td></tr><tr><td>&quot;DeviceGemmDl&lt;128, 128, 64, 16,…</td><td>0.244222</td><td>8.79314</td><td>51.5223</td><td>false</td><td>&quot;2025-06-17T13:04:31.466Z&quot;</td><td>1024</td><td>1024</td><td>&quot;RowMajor&quot;</td><td>&quot;f32&quot;</td><td>1024</td><td>&quot;f32&quot;</td><td>&quot;f32&quot;</td><td>&quot;RowMajor&quot;</td><td>&quot;RowMajor&quot;</td><td>&quot;f32&quot;</td><td>&quot;gemm&quot;</td></tr></tbody></table></div>"
      ],
      "text/plain": [
       "shape: (5, 17)\n",
       "┌─────────────┬──────────┬─────────┬────────────┬───┬──────────┬──────────┬──────────┬─────────────┐\n",
       "│ operation   ┆ time_ms  ┆ tflops  ┆ gb_per_sec ┆ … ┆ layout_c ┆ layout_a ┆ datatype ┆ operation_t │\n",
       "│ ---         ┆ ---      ┆ ---     ┆ ---        ┆   ┆ ---      ┆ ---      ┆ ---      ┆ ype         │\n",
       "│ str         ┆ f64      ┆ f64     ┆ f64        ┆   ┆ str      ┆ str      ┆ str      ┆ ---         │\n",
       "│             ┆          ┆         ┆            ┆   ┆          ┆          ┆          ┆ str         │\n",
       "╞═════════════╪══════════╪═════════╪════════════╪═══╪══════════╪══════════╪══════════╪═════════════╡\n",
       "│ DeviceGemmD ┆ 0.663739 ┆ 3.23543 ┆ 18.9576    ┆ … ┆ RowMajor ┆ RowMajor ┆ f32      ┆ gemm        │\n",
       "│ l<256, 128, ┆          ┆         ┆            ┆   ┆          ┆          ┆          ┆             │\n",
       "│ 128, 16…    ┆          ┆         ┆            ┆   ┆          ┆          ┆          ┆             │\n",
       "│ DeviceGemmD ┆ 0.316627 ┆ 6.78237 ┆ 39.7404    ┆ … ┆ RowMajor ┆ RowMajor ┆ f32      ┆ gemm        │\n",
       "│ l<256, 128, ┆          ┆         ┆            ┆   ┆          ┆          ┆          ┆             │\n",
       "│ 128, 16…    ┆          ┆         ┆            ┆   ┆          ┆          ┆          ┆             │\n",
       "│ DeviceGemmD ┆ 0.298055 ┆ 7.20499 ┆ 42.2167    ┆ … ┆ RowMajor ┆ RowMajor ┆ f32      ┆ gemm        │\n",
       "│ l<256, 128, ┆          ┆         ┆            ┆   ┆          ┆          ┆          ┆             │\n",
       "│ 128, 16…    ┆          ┆         ┆            ┆   ┆          ┆          ┆          ┆             │\n",
       "│ DeviceGemmD ┆ 0.250567 ┆ 8.57051 ┆ 50.2178    ┆ … ┆ RowMajor ┆ RowMajor ┆ f32      ┆ gemm        │\n",
       "│ l<128, 128, ┆          ┆         ┆            ┆   ┆          ┆          ┆          ┆             │\n",
       "│ 64, 16,…    ┆          ┆         ┆            ┆   ┆          ┆          ┆          ┆             │\n",
       "│ DeviceGemmD ┆ 0.244222 ┆ 8.79314 ┆ 51.5223    ┆ … ┆ RowMajor ┆ RowMajor ┆ f32      ┆ gemm        │\n",
       "│ l<128, 128, ┆          ┆         ┆            ┆   ┆          ┆          ┆          ┆             │\n",
       "│ 64, 16,…    ┆          ┆         ┆            ┆   ┆          ┆          ┆          ┆             │\n",
       "└─────────────┴──────────┴─────────┴────────────┴───┴──────────┴──────────┴──────────┴─────────────┘"
      ]
     },
     "metadata": {},
     "output_type": "display_data"
    }
   ],
   "source": [
    "# Look at the raw dataframe\n",
    "df = result_set.dataframe\n",
    "display(df.head())"
   ]
  },
  {
   "cell_type": "code",
   "execution_count": 12,
   "metadata": {},
   "outputs": [
    {
     "name": "stderr",
     "output_type": "stream",
     "text": [
      "2025-06-17 15:05:15,289 - kernel_scan.visualization.plots - DEBUG - DataFrame columns: ['operation', 'time_ms', 'tflops', 'gb_per_sec', 'is_best', 'timestamp', 'N', 'M', 'layout_b', 'output_datatype', 'K', 'weight_datatype', 'input_datatype', 'layout_c', 'layout_a', 'datatype', 'operation_type']\n",
      "2025-06-17 15:05:15,290 - kernel_scan.visualization.plots - DEBUG - DataFrame sample: shape: (2, 17)\n",
      "┌─────────────┬──────────┬─────────┬────────────┬───┬──────────┬──────────┬──────────┬─────────────┐\n",
      "│ operation   ┆ time_ms  ┆ tflops  ┆ gb_per_sec ┆ … ┆ layout_c ┆ layout_a ┆ datatype ┆ operation_t │\n",
      "│ ---         ┆ ---      ┆ ---     ┆ ---        ┆   ┆ ---      ┆ ---      ┆ ---      ┆ ype         │\n",
      "│ str         ┆ f64      ┆ f64     ┆ f64        ┆   ┆ str      ┆ str      ┆ str      ┆ ---         │\n",
      "│             ┆          ┆         ┆            ┆   ┆          ┆          ┆          ┆ str         │\n",
      "╞═════════════╪══════════╪═════════╪════════════╪═══╪══════════╪══════════╪══════════╪═════════════╡\n",
      "│ DeviceGemmD ┆ 0.663739 ┆ 3.23543 ┆ 18.9576    ┆ … ┆ RowMajor ┆ RowMajor ┆ f32      ┆ gemm        │\n",
      "│ l<256, 128, ┆          ┆         ┆            ┆   ┆          ┆          ┆          ┆             │\n",
      "│ 128, 16…    ┆          ┆         ┆            ┆   ┆          ┆          ┆          ┆             │\n",
      "│ DeviceGemmD ┆ 0.316627 ┆ 6.78237 ┆ 39.7404    ┆ … ┆ RowMajor ┆ RowMajor ┆ f32      ┆ gemm        │\n",
      "│ l<256, 128, ┆          ┆         ┆            ┆   ┆          ┆          ┆          ┆             │\n",
      "│ 128, 16…    ┆          ┆         ┆            ┆   ┆          ┆          ┆          ┆             │\n",
      "└─────────────┴──────────┴─────────┴────────────┴───┴──────────┴──────────┴──────────┴─────────────┘\n",
      "2025-06-17 15:05:15,290 - kernel_scan.visualization.plots - INFO - Peak Compute Performance for DataType.FLOAT32 on Radeon RX 7900 XTX:\n",
      "2025-06-17 15:05:15,291 - kernel_scan.visualization.plots - DEBUG - DataFrame columns: ['operation', 'time_ms', 'tflops', 'gb_per_sec', 'is_best', 'timestamp', 'N', 'M', 'layout_b', 'output_datatype', 'K', 'weight_datatype', 'input_datatype', 'layout_c', 'layout_a', 'datatype', 'operation_type', 'gflops', 'gemm_arithmetic_intensity', 'group', 'memory_constraint', 'attainable_performance', 'precision_format', 'peak_compute', 'peak_bandwidth']\n",
      "2025-06-17 15:05:15,291 - kernel_scan.visualization.plots - DEBUG - DataFrame sample: shape: (2, 25)\n",
      "┌────────────┬──────────┬─────────┬────────────┬───┬───────────┬───────────┬───────────┬───────────┐\n",
      "│ operation  ┆ time_ms  ┆ tflops  ┆ gb_per_sec ┆ … ┆ attainabl ┆ precision ┆ peak_comp ┆ peak_band │\n",
      "│ ---        ┆ ---      ┆ ---     ┆ ---        ┆   ┆ e_perform ┆ _format   ┆ ute       ┆ width     │\n",
      "│ str        ┆ f64      ┆ f64     ┆ f64        ┆   ┆ ance      ┆ ---       ┆ ---       ┆ ---       │\n",
      "│            ┆          ┆         ┆            ┆   ┆ ---       ┆ str       ┆ f64       ┆ f64       │\n",
      "│            ┆          ┆         ┆            ┆   ┆ f64       ┆           ┆           ┆           │\n",
      "╞════════════╪══════════╪═════════╪════════════╪═══╪═══════════╪═══════════╪═══════════╪═══════════╡\n",
      "│ DeviceGemm ┆ 0.663739 ┆ 3.23543 ┆ 18.9576    ┆ … ┆ 61.4      ┆ FLOAT32   ┆ 61.4      ┆ 960.0     │\n",
      "│ Dl<256,    ┆          ┆         ┆            ┆   ┆           ┆           ┆           ┆           │\n",
      "│ 128, 128,  ┆          ┆         ┆            ┆   ┆           ┆           ┆           ┆           │\n",
      "│ 16…        ┆          ┆         ┆            ┆   ┆           ┆           ┆           ┆           │\n",
      "│ DeviceGemm ┆ 0.316627 ┆ 6.78237 ┆ 39.7404    ┆ … ┆ 61.4      ┆ FLOAT32   ┆ 61.4      ┆ 960.0     │\n",
      "│ Dl<256,    ┆          ┆         ┆            ┆   ┆           ┆           ┆           ┆           │\n",
      "│ 128, 128,  ┆          ┆         ┆            ┆   ┆           ┆           ┆           ┆           │\n",
      "│ 16…        ┆          ┆         ┆            ┆   ┆           ┆           ┆           ┆           │\n",
      "└────────────┴──────────┴─────────┴────────────┴───┴───────────┴───────────┴───────────┴───────────┘\n"
     ]
    },
    {
     "data": {
      "application/vnd.plotly.v1+json": {
       "config": {
        "plotlyServerURL": "https://plot.ly"
       },
       "data": [
        {
         "hovertemplate": "M=1024<br>Arithmetic Intensity (FLOPs/Byte)=%{x}<br>Performance (TFLOPs - FLOAT32)=%{y}<extra></extra>",
         "legendgroup": "1024",
         "marker": {
          "color": "#3366CC",
          "symbol": "circle"
         },
         "mode": "markers",
         "name": "1024",
         "orientation": "v",
         "showlegend": true,
         "type": "scatter",
         "x": {
          "bdata": "VVVVVVVVdUBVVVVVVVV1QFVVVVVVVXVAVVVVVVVVdUBVVVVVVVV1QFVVVVVVVXVAVVVVVVVVdUBVVVVVVVV1QFVVVVVVVXVAVVVVVVVVdUBVVVVVVVV1QFVVVVVVVXVAVVVVVVVVdUBVVVVVVVV1QFVVVVVVVXVAVVVVVVVVdUBVVVVVVVV1QFVVVVVVVXVAVVVVVVVVdUBVVVVVVVV1QFVVVVVVVXVAVVVVVVVVdUBVVVVVVVV1QFVVVVVVVXVAVVVVVVVVdUA=",
          "dtype": "f8"
         },
         "xaxis": "x",
         "y": {
          "bdata": "bvqzHyniCUBwfO2ZJSEbQDUHCObo0RxA+RQA4xkkIUCDTDJyFpYhQOlDF9S3fCFAoFT7dDyWIUBKDAIrhyYjQE34pX7eJCNAgsr49xkXI0AVkWEVbyQjQM0Bgjl6vCBAYeC593ApIEDo3sMlx/0SQG3KFd7lohJA8zy4O2s3E0BCCTNt/0oTQNJSeTvCSRNATMPwETFFE0AyOEpenSMEQFVq9kArcANAkiIyrOINBECC/61kxwYEQCXMtP0r+yFASgwCK4cmI0A=",
          "dtype": "f8"
         },
         "yaxis": "y"
        },
        {
         "line": {
          "color": "red",
          "dash": "dash",
          "width": 2
         },
         "mode": "lines",
         "name": "Roofline",
         "opacity": 0.7,
         "type": "scatter",
         "x": [
          341.3333333333333,
          341.3333333333333,
          341.3333333333333,
          341.3333333333333,
          341.3333333333333,
          341.3333333333333,
          341.3333333333333,
          341.3333333333333,
          341.3333333333333,
          341.3333333333333,
          341.3333333333333,
          341.3333333333333,
          341.3333333333333,
          341.3333333333333,
          341.3333333333333,
          341.3333333333333,
          341.3333333333333,
          341.3333333333333,
          341.3333333333333,
          341.3333333333333,
          341.3333333333333,
          341.3333333333333,
          341.3333333333333,
          341.3333333333333,
          341.3333333333333
         ],
         "y": [
          61.4,
          61.4,
          61.4,
          61.4,
          61.4,
          61.4,
          61.4,
          61.4,
          61.4,
          61.4,
          61.4,
          61.4,
          61.4,
          61.4,
          61.4,
          61.4,
          61.4,
          61.4,
          61.4,
          61.4,
          61.4,
          61.4,
          61.4,
          61.4,
          61.4
         ]
        }
       ],
       "layout": {
        "height": 600,
        "legend": {
         "title": {
          "text": "M"
         },
         "tracegroupgap": 0
        },
        "template": {
         "data": {
          "bar": [
           {
            "error_x": {
             "color": "#2a3f5f"
            },
            "error_y": {
             "color": "#2a3f5f"
            },
            "marker": {
             "line": {
              "color": "#E5ECF6",
              "width": 0.5
             },
             "pattern": {
              "fillmode": "overlay",
              "size": 10,
              "solidity": 0.2
             }
            },
            "type": "bar"
           }
          ],
          "barpolar": [
           {
            "marker": {
             "line": {
              "color": "#E5ECF6",
              "width": 0.5
             },
             "pattern": {
              "fillmode": "overlay",
              "size": 10,
              "solidity": 0.2
             }
            },
            "type": "barpolar"
           }
          ],
          "carpet": [
           {
            "aaxis": {
             "endlinecolor": "#2a3f5f",
             "gridcolor": "white",
             "linecolor": "white",
             "minorgridcolor": "white",
             "startlinecolor": "#2a3f5f"
            },
            "baxis": {
             "endlinecolor": "#2a3f5f",
             "gridcolor": "white",
             "linecolor": "white",
             "minorgridcolor": "white",
             "startlinecolor": "#2a3f5f"
            },
            "type": "carpet"
           }
          ],
          "choropleth": [
           {
            "colorbar": {
             "outlinewidth": 0,
             "ticks": ""
            },
            "type": "choropleth"
           }
          ],
          "contour": [
           {
            "colorbar": {
             "outlinewidth": 0,
             "ticks": ""
            },
            "colorscale": [
             [
              0,
              "#0d0887"
             ],
             [
              0.1111111111111111,
              "#46039f"
             ],
             [
              0.2222222222222222,
              "#7201a8"
             ],
             [
              0.3333333333333333,
              "#9c179e"
             ],
             [
              0.4444444444444444,
              "#bd3786"
             ],
             [
              0.5555555555555556,
              "#d8576b"
             ],
             [
              0.6666666666666666,
              "#ed7953"
             ],
             [
              0.7777777777777778,
              "#fb9f3a"
             ],
             [
              0.8888888888888888,
              "#fdca26"
             ],
             [
              1,
              "#f0f921"
             ]
            ],
            "type": "contour"
           }
          ],
          "contourcarpet": [
           {
            "colorbar": {
             "outlinewidth": 0,
             "ticks": ""
            },
            "type": "contourcarpet"
           }
          ],
          "heatmap": [
           {
            "colorbar": {
             "outlinewidth": 0,
             "ticks": ""
            },
            "colorscale": [
             [
              0,
              "#0d0887"
             ],
             [
              0.1111111111111111,
              "#46039f"
             ],
             [
              0.2222222222222222,
              "#7201a8"
             ],
             [
              0.3333333333333333,
              "#9c179e"
             ],
             [
              0.4444444444444444,
              "#bd3786"
             ],
             [
              0.5555555555555556,
              "#d8576b"
             ],
             [
              0.6666666666666666,
              "#ed7953"
             ],
             [
              0.7777777777777778,
              "#fb9f3a"
             ],
             [
              0.8888888888888888,
              "#fdca26"
             ],
             [
              1,
              "#f0f921"
             ]
            ],
            "type": "heatmap"
           }
          ],
          "histogram": [
           {
            "marker": {
             "pattern": {
              "fillmode": "overlay",
              "size": 10,
              "solidity": 0.2
             }
            },
            "type": "histogram"
           }
          ],
          "histogram2d": [
           {
            "colorbar": {
             "outlinewidth": 0,
             "ticks": ""
            },
            "colorscale": [
             [
              0,
              "#0d0887"
             ],
             [
              0.1111111111111111,
              "#46039f"
             ],
             [
              0.2222222222222222,
              "#7201a8"
             ],
             [
              0.3333333333333333,
              "#9c179e"
             ],
             [
              0.4444444444444444,
              "#bd3786"
             ],
             [
              0.5555555555555556,
              "#d8576b"
             ],
             [
              0.6666666666666666,
              "#ed7953"
             ],
             [
              0.7777777777777778,
              "#fb9f3a"
             ],
             [
              0.8888888888888888,
              "#fdca26"
             ],
             [
              1,
              "#f0f921"
             ]
            ],
            "type": "histogram2d"
           }
          ],
          "histogram2dcontour": [
           {
            "colorbar": {
             "outlinewidth": 0,
             "ticks": ""
            },
            "colorscale": [
             [
              0,
              "#0d0887"
             ],
             [
              0.1111111111111111,
              "#46039f"
             ],
             [
              0.2222222222222222,
              "#7201a8"
             ],
             [
              0.3333333333333333,
              "#9c179e"
             ],
             [
              0.4444444444444444,
              "#bd3786"
             ],
             [
              0.5555555555555556,
              "#d8576b"
             ],
             [
              0.6666666666666666,
              "#ed7953"
             ],
             [
              0.7777777777777778,
              "#fb9f3a"
             ],
             [
              0.8888888888888888,
              "#fdca26"
             ],
             [
              1,
              "#f0f921"
             ]
            ],
            "type": "histogram2dcontour"
           }
          ],
          "mesh3d": [
           {
            "colorbar": {
             "outlinewidth": 0,
             "ticks": ""
            },
            "type": "mesh3d"
           }
          ],
          "parcoords": [
           {
            "line": {
             "colorbar": {
              "outlinewidth": 0,
              "ticks": ""
             }
            },
            "type": "parcoords"
           }
          ],
          "pie": [
           {
            "automargin": true,
            "type": "pie"
           }
          ],
          "scatter": [
           {
            "fillpattern": {
             "fillmode": "overlay",
             "size": 10,
             "solidity": 0.2
            },
            "type": "scatter"
           }
          ],
          "scatter3d": [
           {
            "line": {
             "colorbar": {
              "outlinewidth": 0,
              "ticks": ""
             }
            },
            "marker": {
             "colorbar": {
              "outlinewidth": 0,
              "ticks": ""
             }
            },
            "type": "scatter3d"
           }
          ],
          "scattercarpet": [
           {
            "marker": {
             "colorbar": {
              "outlinewidth": 0,
              "ticks": ""
             }
            },
            "type": "scattercarpet"
           }
          ],
          "scattergeo": [
           {
            "marker": {
             "colorbar": {
              "outlinewidth": 0,
              "ticks": ""
             }
            },
            "type": "scattergeo"
           }
          ],
          "scattergl": [
           {
            "marker": {
             "colorbar": {
              "outlinewidth": 0,
              "ticks": ""
             }
            },
            "type": "scattergl"
           }
          ],
          "scattermap": [
           {
            "marker": {
             "colorbar": {
              "outlinewidth": 0,
              "ticks": ""
             }
            },
            "type": "scattermap"
           }
          ],
          "scattermapbox": [
           {
            "marker": {
             "colorbar": {
              "outlinewidth": 0,
              "ticks": ""
             }
            },
            "type": "scattermapbox"
           }
          ],
          "scatterpolar": [
           {
            "marker": {
             "colorbar": {
              "outlinewidth": 0,
              "ticks": ""
             }
            },
            "type": "scatterpolar"
           }
          ],
          "scatterpolargl": [
           {
            "marker": {
             "colorbar": {
              "outlinewidth": 0,
              "ticks": ""
             }
            },
            "type": "scatterpolargl"
           }
          ],
          "scatterternary": [
           {
            "marker": {
             "colorbar": {
              "outlinewidth": 0,
              "ticks": ""
             }
            },
            "type": "scatterternary"
           }
          ],
          "surface": [
           {
            "colorbar": {
             "outlinewidth": 0,
             "ticks": ""
            },
            "colorscale": [
             [
              0,
              "#0d0887"
             ],
             [
              0.1111111111111111,
              "#46039f"
             ],
             [
              0.2222222222222222,
              "#7201a8"
             ],
             [
              0.3333333333333333,
              "#9c179e"
             ],
             [
              0.4444444444444444,
              "#bd3786"
             ],
             [
              0.5555555555555556,
              "#d8576b"
             ],
             [
              0.6666666666666666,
              "#ed7953"
             ],
             [
              0.7777777777777778,
              "#fb9f3a"
             ],
             [
              0.8888888888888888,
              "#fdca26"
             ],
             [
              1,
              "#f0f921"
             ]
            ],
            "type": "surface"
           }
          ],
          "table": [
           {
            "cells": {
             "fill": {
              "color": "#EBF0F8"
             },
             "line": {
              "color": "white"
             }
            },
            "header": {
             "fill": {
              "color": "#C8D4E3"
             },
             "line": {
              "color": "white"
             }
            },
            "type": "table"
           }
          ]
         },
         "layout": {
          "annotationdefaults": {
           "arrowcolor": "#2a3f5f",
           "arrowhead": 0,
           "arrowwidth": 1
          },
          "autotypenumbers": "strict",
          "coloraxis": {
           "colorbar": {
            "outlinewidth": 0,
            "ticks": ""
           }
          },
          "colorscale": {
           "diverging": [
            [
             0,
             "#8e0152"
            ],
            [
             0.1,
             "#c51b7d"
            ],
            [
             0.2,
             "#de77ae"
            ],
            [
             0.3,
             "#f1b6da"
            ],
            [
             0.4,
             "#fde0ef"
            ],
            [
             0.5,
             "#f7f7f7"
            ],
            [
             0.6,
             "#e6f5d0"
            ],
            [
             0.7,
             "#b8e186"
            ],
            [
             0.8,
             "#7fbc41"
            ],
            [
             0.9,
             "#4d9221"
            ],
            [
             1,
             "#276419"
            ]
           ],
           "sequential": [
            [
             0,
             "#0d0887"
            ],
            [
             0.1111111111111111,
             "#46039f"
            ],
            [
             0.2222222222222222,
             "#7201a8"
            ],
            [
             0.3333333333333333,
             "#9c179e"
            ],
            [
             0.4444444444444444,
             "#bd3786"
            ],
            [
             0.5555555555555556,
             "#d8576b"
            ],
            [
             0.6666666666666666,
             "#ed7953"
            ],
            [
             0.7777777777777778,
             "#fb9f3a"
            ],
            [
             0.8888888888888888,
             "#fdca26"
            ],
            [
             1,
             "#f0f921"
            ]
           ],
           "sequentialminus": [
            [
             0,
             "#0d0887"
            ],
            [
             0.1111111111111111,
             "#46039f"
            ],
            [
             0.2222222222222222,
             "#7201a8"
            ],
            [
             0.3333333333333333,
             "#9c179e"
            ],
            [
             0.4444444444444444,
             "#bd3786"
            ],
            [
             0.5555555555555556,
             "#d8576b"
            ],
            [
             0.6666666666666666,
             "#ed7953"
            ],
            [
             0.7777777777777778,
             "#fb9f3a"
            ],
            [
             0.8888888888888888,
             "#fdca26"
            ],
            [
             1,
             "#f0f921"
            ]
           ]
          },
          "colorway": [
           "#636efa",
           "#EF553B",
           "#00cc96",
           "#ab63fa",
           "#FFA15A",
           "#19d3f3",
           "#FF6692",
           "#B6E880",
           "#FF97FF",
           "#FECB52"
          ],
          "font": {
           "color": "#2a3f5f"
          },
          "geo": {
           "bgcolor": "white",
           "lakecolor": "white",
           "landcolor": "#E5ECF6",
           "showlakes": true,
           "showland": true,
           "subunitcolor": "white"
          },
          "hoverlabel": {
           "align": "left"
          },
          "hovermode": "closest",
          "mapbox": {
           "style": "light"
          },
          "paper_bgcolor": "white",
          "plot_bgcolor": "#E5ECF6",
          "polar": {
           "angularaxis": {
            "gridcolor": "white",
            "linecolor": "white",
            "ticks": ""
           },
           "bgcolor": "#E5ECF6",
           "radialaxis": {
            "gridcolor": "white",
            "linecolor": "white",
            "ticks": ""
           }
          },
          "scene": {
           "xaxis": {
            "backgroundcolor": "#E5ECF6",
            "gridcolor": "white",
            "gridwidth": 2,
            "linecolor": "white",
            "showbackground": true,
            "ticks": "",
            "zerolinecolor": "white"
           },
           "yaxis": {
            "backgroundcolor": "#E5ECF6",
            "gridcolor": "white",
            "gridwidth": 2,
            "linecolor": "white",
            "showbackground": true,
            "ticks": "",
            "zerolinecolor": "white"
           },
           "zaxis": {
            "backgroundcolor": "#E5ECF6",
            "gridcolor": "white",
            "gridwidth": 2,
            "linecolor": "white",
            "showbackground": true,
            "ticks": "",
            "zerolinecolor": "white"
           }
          },
          "shapedefaults": {
           "line": {
            "color": "#2a3f5f"
           }
          },
          "ternary": {
           "aaxis": {
            "gridcolor": "white",
            "linecolor": "white",
            "ticks": ""
           },
           "baxis": {
            "gridcolor": "white",
            "linecolor": "white",
            "ticks": ""
           },
           "bgcolor": "#E5ECF6",
           "caxis": {
            "gridcolor": "white",
            "linecolor": "white",
            "ticks": ""
           }
          },
          "title": {
           "x": 0.05
          },
          "xaxis": {
           "automargin": true,
           "gridcolor": "white",
           "linecolor": "white",
           "ticks": "",
           "title": {
            "standoff": 15
           },
           "zerolinecolor": "white",
           "zerolinewidth": 2
          },
          "yaxis": {
           "automargin": true,
           "gridcolor": "white",
           "linecolor": "white",
           "ticks": "",
           "title": {
            "standoff": 15
           },
           "zerolinecolor": "white",
           "zerolinewidth": 2
          }
         }
        },
        "title": {
         "text": "Radeon RX 7900 XTX Roofline Analysis - FLOAT32 - M = 1024"
        },
        "xaxis": {
         "anchor": "y",
         "domain": [
          0,
          1
         ],
         "title": {
          "text": "Arithmetic Intensity (FLOPs/Byte)"
         },
         "type": "log"
        },
        "yaxis": {
         "anchor": "x",
         "domain": [
          0,
          1
         ],
         "title": {
          "text": "Performance (TFLOPs - FLOAT32)"
         },
         "type": "log"
        }
       }
      },
      "image/png": "[encoded data removed]"
     },
     "metadata": {},
     "output_type": "display_data"
    }
   ],
   "source": [
    "try:\n",
    "    # Generate roofline plots\n",
    "    figures = generate_gemm_roofline_plots_by_group(result_set)\n",
    "    \n",
    "    for group, fig in figures.items():\n",
    "        fig.show()\n",
    "        \n",
    "except Exception as e:\n",
    "    log.error(f\"Error during plotting: {e}\")\n",
    "    raise e"
   ]
  },
  {
   "cell_type": "code",
   "execution_count": 16,
   "metadata": {},
   "outputs": [
    {
     "data": {
      "application/vnd.plotly.v1+json": {
       "config": {
        "plotlyServerURL": "https://plot.ly"
       },
       "data": [
        {
         "customdata": [
          [
           0.8147017859315149,
           0.663739,
           "1024",
           1024,
           1024
          ],
          [
           0.5626961880091245,
           0.316627,
           "1024",
           1024,
           1024
          ],
          [
           0.5459441363363106,
           0.298055,
           "1024",
           1024,
           1024
          ],
          [
           0.5005666788750526,
           0.250567,
           "1024",
           1024,
           1024
          ],
          [
           0.49418822325102,
           0.244222,
           "1024",
           1024,
           1024
          ],
          [
           0.4955865212049254,
           0.245606,
           "1024",
           1024,
           1024
          ],
          [
           0.4941811408785244,
           0.244215,
           "1024",
           1024,
           1024
          ],
          [
           0.4735757595147792,
           0.224274,
           "1024",
           1024,
           1024
          ],
          [
           0.47365599331160163,
           0.22435,
           "1024",
           1024,
           1024
          ],
          [
           0.4743226749798074,
           0.224982,
           "1024",
           1024,
           1024
          ],
          [
           0.4736771052098676,
           0.22437,
           "1024",
           1024,
           1024
          ],
          [
           0.5065836554805139,
           0.256627,
           "1024",
           1024,
           1024
          ],
          [
           0.5155065470001327,
           0.265747,
           "1024",
           1024,
           1024
          ],
          [
           0.6725392181873113,
           0.452309,
           "1024",
           1024,
           1024
          ],
          [
           0.6789145748914218,
           0.460925,
           "1024",
           1024,
           1024
          ],
          [
           0.6685873166610327,
           0.447009,
           "1024",
           1024,
           1024
          ],
          [
           0.6672608185709693,
           0.445237,
           "1024",
           1024,
           1024
          ],
          [
           0.6673447384972777,
           0.445349,
           "1024",
           1024,
           1024
          ],
          [
           0.6676533531706405,
           0.445761,
           "1024",
           1024,
           1024
          ],
          [
           0.9236130142002115,
           0.853061,
           "1024",
           1024,
           1024
          ],
          [
           0.940117545842008,
           0.883821,
           "1024",
           1024,
           1024
          ],
          [
           0.9255641522876736,
           0.856669,
           "1024",
           1024,
           1024
          ],
          [
           0.9262057006950454,
           0.857857,
           "1024",
           1024,
           1024
          ],
          [
           0.48873203291783524,
           0.238859,
           "1024",
           1024,
           1024
          ],
          [
           0.4735757595147792,
           0.224274,
           "1024",
           1024,
           1024
          ]
         ],
         "hovertemplate": "M=%{customdata[2]}<br>Arithmetic Intensity (TFLOPs/GB/s)=%{x}<br>Performance (TFLOPs)=%{y}<br>Execution Time (ms)=%{customdata[1]}<br>N=%{customdata[3]}<br>K=%{customdata[4]}<extra></extra>",
         "legendgroup": "1024",
         "marker": {
          "color": "#3366CC",
          "size": {
           "bdata": "YDLSegkS6j9nqKJvmwHiP8c8YNZfeOE/u4pnaaQE4D9VnTukx6DfP9p3Ooewt98/BOOX76mg3z9t1tKzEE/eP235NDphUN4/Vocyfk1b3j+cYe/GuVDePxRDH+3uNeA/oakHlgd/4D+Iimz3cIXlP/z2/Q6rueU/hYtyOhFl5T+bQzVcM1rlP4IcYFrjWuU/LdidkGpd5T/qy0ThPI7tP8kwOWRxFe4/4J2Ntjie7T/XUzsjeqPtP8/weLhiR98/bdbSsxBP3j8=",
           "dtype": "f8"
          },
          "sizemode": "area",
          "sizeref": 0.0023502938646050202,
          "symbol": "circle"
         },
         "mode": "markers",
         "name": "1024",
         "orientation": "v",
         "showlegend": true,
         "type": "scatter",
         "x": {
          "bdata": "VVVVVVVVdUBVVVVVVVV1QFVVVVVVVXVAVVVVVVVVdUBVVVVVVVV1QFVVVVVVVXVAVVVVVVVVdUBVVVVVVVV1QFVVVVVVVXVAVVVVVVVVdUBVVVVVVVV1QFVVVVVVVXVAVVVVVVVVdUBVVVVVVVV1QFVVVVVVVXVAVVVVVVVVdUBVVVVVVVV1QFVVVVVVVXVAVVVVVVVVdUBVVVVVVVV1QFVVVVVVVXVAVVVVVVVVdUBVVVVVVVV1QFVVVVVVVXVAVVVVVVVVdUA=",
          "dtype": "f8"
         },
         "xaxis": "x",
         "y": {
          "bdata": "bvqzHyniCUBwfO2ZJSEbQDUHCObo0RxA+RQA4xkkIUCDTDJyFpYhQOlDF9S3fCFAoFT7dDyWIUBKDAIrhyYjQE34pX7eJCNAgsr49xkXI0AVkWEVbyQjQM0Bgjl6vCBAYeC593ApIEDo3sMlx/0SQG3KFd7lohJA8zy4O2s3E0BCCTNt/0oTQNJSeTvCSRNATMPwETFFE0AyOEpenSMEQFVq9kArcANAkiIyrOINBECC/61kxwYEQCXMtP0r+yFASgwCK4cmI0A=",
          "dtype": "f8"
         },
         "yaxis": "y"
        },
        {
         "line": {
          "width": 1
         },
         "mode": "lines",
         "name": "Roofline",
         "opacity": 0.45,
         "type": "scatter",
         "x": [
          341.3333333333333,
          341.3333333333333,
          341.3333333333333,
          341.3333333333333,
          341.3333333333333,
          341.3333333333333,
          341.3333333333333,
          341.3333333333333,
          341.3333333333333,
          341.3333333333333,
          341.3333333333333,
          341.3333333333333,
          341.3333333333333,
          341.3333333333333,
          341.3333333333333,
          341.3333333333333,
          341.3333333333333,
          341.3333333333333,
          341.3333333333333,
          341.3333333333333,
          341.3333333333333,
          341.3333333333333,
          341.3333333333333,
          341.3333333333333,
          341.3333333333333
         ],
         "y": [
          61.4,
          61.4,
          61.4,
          61.4,
          61.4,
          61.4,
          61.4,
          61.4,
          61.4,
          61.4,
          61.4,
          61.4,
          61.4,
          61.4,
          61.4,
          61.4,
          61.4,
          61.4,
          61.4,
          61.4,
          61.4,
          61.4,
          61.4,
          61.4,
          61.4
         ]
        }
       ],
       "layout": {
        "height": 600,
        "legend": {
         "itemsizing": "constant",
         "title": {
          "text": "M"
         },
         "tracegroupgap": 0
        },
        "template": {
         "data": {
          "bar": [
           {
            "error_x": {
             "color": "#2a3f5f"
            },
            "error_y": {
             "color": "#2a3f5f"
            },
            "marker": {
             "line": {
              "color": "#E5ECF6",
              "width": 0.5
             },
             "pattern": {
              "fillmode": "overlay",
              "size": 10,
              "solidity": 0.2
             }
            },
            "type": "bar"
           }
          ],
          "barpolar": [
           {
            "marker": {
             "line": {
              "color": "#E5ECF6",
              "width": 0.5
             },
             "pattern": {
              "fillmode": "overlay",
              "size": 10,
              "solidity": 0.2
             }
            },
            "type": "barpolar"
           }
          ],
          "carpet": [
           {
            "aaxis": {
             "endlinecolor": "#2a3f5f",
             "gridcolor": "white",
             "linecolor": "white",
             "minorgridcolor": "white",
             "startlinecolor": "#2a3f5f"
            },
            "baxis": {
             "endlinecolor": "#2a3f5f",
             "gridcolor": "white",
             "linecolor": "white",
             "minorgridcolor": "white",
             "startlinecolor": "#2a3f5f"
            },
            "type": "carpet"
           }
          ],
          "choropleth": [
           {
            "colorbar": {
             "outlinewidth": 0,
             "ticks": ""
            },
            "type": "choropleth"
           }
          ],
          "contour": [
           {
            "colorbar": {
             "outlinewidth": 0,
             "ticks": ""
            },
            "colorscale": [
             [
              0,
              "#0d0887"
             ],
             [
              0.1111111111111111,
              "#46039f"
             ],
             [
              0.2222222222222222,
              "#7201a8"
             ],
             [
              0.3333333333333333,
              "#9c179e"
             ],
             [
              0.4444444444444444,
              "#bd3786"
             ],
             [
              0.5555555555555556,
              "#d8576b"
             ],
             [
              0.6666666666666666,
              "#ed7953"
             ],
             [
              0.7777777777777778,
              "#fb9f3a"
             ],
             [
              0.8888888888888888,
              "#fdca26"
             ],
             [
              1,
              "#f0f921"
             ]
            ],
            "type": "contour"
           }
          ],
          "contourcarpet": [
           {
            "colorbar": {
             "outlinewidth": 0,
             "ticks": ""
            },
            "type": "contourcarpet"
           }
          ],
          "heatmap": [
           {
            "colorbar": {
             "outlinewidth": 0,
             "ticks": ""
            },
            "colorscale": [
             [
              0,
              "#0d0887"
             ],
             [
              0.1111111111111111,
              "#46039f"
             ],
             [
              0.2222222222222222,
              "#7201a8"
             ],
             [
              0.3333333333333333,
              "#9c179e"
             ],
             [
              0.4444444444444444,
              "#bd3786"
             ],
             [
              0.5555555555555556,
              "#d8576b"
             ],
             [
              0.6666666666666666,
              "#ed7953"
             ],
             [
              0.7777777777777778,
              "#fb9f3a"
             ],
             [
              0.8888888888888888,
              "#fdca26"
             ],
             [
              1,
              "#f0f921"
             ]
            ],
            "type": "heatmap"
           }
          ],
          "histogram": [
           {
            "marker": {
             "pattern": {
              "fillmode": "overlay",
              "size": 10,
              "solidity": 0.2
             }
            },
            "type": "histogram"
           }
          ],
          "histogram2d": [
           {
            "colorbar": {
             "outlinewidth": 0,
             "ticks": ""
            },
            "colorscale": [
             [
              0,
              "#0d0887"
             ],
             [
              0.1111111111111111,
              "#46039f"
             ],
             [
              0.2222222222222222,
              "#7201a8"
             ],
             [
              0.3333333333333333,
              "#9c179e"
             ],
             [
              0.4444444444444444,
              "#bd3786"
             ],
             [
              0.5555555555555556,
              "#d8576b"
             ],
             [
              0.6666666666666666,
              "#ed7953"
             ],
             [
              0.7777777777777778,
              "#fb9f3a"
             ],
             [
              0.8888888888888888,
              "#fdca26"
             ],
             [
              1,
              "#f0f921"
             ]
            ],
            "type": "histogram2d"
           }
          ],
          "histogram2dcontour": [
           {
            "colorbar": {
             "outlinewidth": 0,
             "ticks": ""
            },
            "colorscale": [
             [
              0,
              "#0d0887"
             ],
             [
              0.1111111111111111,
              "#46039f"
             ],
             [
              0.2222222222222222,
              "#7201a8"
             ],
             [
              0.3333333333333333,
              "#9c179e"
             ],
             [
              0.4444444444444444,
              "#bd3786"
             ],
             [
              0.5555555555555556,
              "#d8576b"
             ],
             [
              0.6666666666666666,
              "#ed7953"
             ],
             [
              0.7777777777777778,
              "#fb9f3a"
             ],
             [
              0.8888888888888888,
              "#fdca26"
             ],
             [
              1,
              "#f0f921"
             ]
            ],
            "type": "histogram2dcontour"
           }
          ],
          "mesh3d": [
           {
            "colorbar": {
             "outlinewidth": 0,
             "ticks": ""
            },
            "type": "mesh3d"
           }
          ],
          "parcoords": [
           {
            "line": {
             "colorbar": {
              "outlinewidth": 0,
              "ticks": ""
             }
            },
            "type": "parcoords"
           }
          ],
          "pie": [
           {
            "automargin": true,
            "type": "pie"
           }
          ],
          "scatter": [
           {
            "fillpattern": {
             "fillmode": "overlay",
             "size": 10,
             "solidity": 0.2
            },
            "type": "scatter"
           }
          ],
          "scatter3d": [
           {
            "line": {
             "colorbar": {
              "outlinewidth": 0,
              "ticks": ""
             }
            },
            "marker": {
             "colorbar": {
              "outlinewidth": 0,
              "ticks": ""
             }
            },
            "type": "scatter3d"
           }
          ],
          "scattercarpet": [
           {
            "marker": {
             "colorbar": {
              "outlinewidth": 0,
              "ticks": ""
             }
            },
            "type": "scattercarpet"
           }
          ],
          "scattergeo": [
           {
            "marker": {
             "colorbar": {
              "outlinewidth": 0,
              "ticks": ""
             }
            },
            "type": "scattergeo"
           }
          ],
          "scattergl": [
           {
            "marker": {
             "colorbar": {
              "outlinewidth": 0,
              "ticks": ""
             }
            },
            "type": "scattergl"
           }
          ],
          "scattermap": [
           {
            "marker": {
             "colorbar": {
              "outlinewidth": 0,
              "ticks": ""
             }
            },
            "type": "scattermap"
           }
          ],
          "scattermapbox": [
           {
            "marker": {
             "colorbar": {
              "outlinewidth": 0,
              "ticks": ""
             }
            },
            "type": "scattermapbox"
           }
          ],
          "scatterpolar": [
           {
            "marker": {
             "colorbar": {
              "outlinewidth": 0,
              "ticks": ""
             }
            },
            "type": "scatterpolar"
           }
          ],
          "scatterpolargl": [
           {
            "marker": {
             "colorbar": {
              "outlinewidth": 0,
              "ticks": ""
             }
            },
            "type": "scatterpolargl"
           }
          ],
          "scatterternary": [
           {
            "marker": {
             "colorbar": {
              "outlinewidth": 0,
              "ticks": ""
             }
            },
            "type": "scatterternary"
           }
          ],
          "surface": [
           {
            "colorbar": {
             "outlinewidth": 0,
             "ticks": ""
            },
            "colorscale": [
             [
              0,
              "#0d0887"
             ],
             [
              0.1111111111111111,
              "#46039f"
             ],
             [
              0.2222222222222222,
              "#7201a8"
             ],
             [
              0.3333333333333333,
              "#9c179e"
             ],
             [
              0.4444444444444444,
              "#bd3786"
             ],
             [
              0.5555555555555556,
              "#d8576b"
             ],
             [
              0.6666666666666666,
              "#ed7953"
             ],
             [
              0.7777777777777778,
              "#fb9f3a"
             ],
             [
              0.8888888888888888,
              "#fdca26"
             ],
             [
              1,
              "#f0f921"
             ]
            ],
            "type": "surface"
           }
          ],
          "table": [
           {
            "cells": {
             "fill": {
              "color": "#EBF0F8"
             },
             "line": {
              "color": "white"
             }
            },
            "header": {
             "fill": {
              "color": "#C8D4E3"
             },
             "line": {
              "color": "white"
             }
            },
            "type": "table"
           }
          ]
         },
         "layout": {
          "annotationdefaults": {
           "arrowcolor": "#2a3f5f",
           "arrowhead": 0,
           "arrowwidth": 1
          },
          "autotypenumbers": "strict",
          "coloraxis": {
           "colorbar": {
            "outlinewidth": 0,
            "ticks": ""
           }
          },
          "colorscale": {
           "diverging": [
            [
             0,
             "#8e0152"
            ],
            [
             0.1,
             "#c51b7d"
            ],
            [
             0.2,
             "#de77ae"
            ],
            [
             0.3,
             "#f1b6da"
            ],
            [
             0.4,
             "#fde0ef"
            ],
            [
             0.5,
             "#f7f7f7"
            ],
            [
             0.6,
             "#e6f5d0"
            ],
            [
             0.7,
             "#b8e186"
            ],
            [
             0.8,
             "#7fbc41"
            ],
            [
             0.9,
             "#4d9221"
            ],
            [
             1,
             "#276419"
            ]
           ],
           "sequential": [
            [
             0,
             "#0d0887"
            ],
            [
             0.1111111111111111,
             "#46039f"
            ],
            [
             0.2222222222222222,
             "#7201a8"
            ],
            [
             0.3333333333333333,
             "#9c179e"
            ],
            [
             0.4444444444444444,
             "#bd3786"
            ],
            [
             0.5555555555555556,
             "#d8576b"
            ],
            [
             0.6666666666666666,
             "#ed7953"
            ],
            [
             0.7777777777777778,
             "#fb9f3a"
            ],
            [
             0.8888888888888888,
             "#fdca26"
            ],
            [
             1,
             "#f0f921"
            ]
           ],
           "sequentialminus": [
            [
             0,
             "#0d0887"
            ],
            [
             0.1111111111111111,
             "#46039f"
            ],
            [
             0.2222222222222222,
             "#7201a8"
            ],
            [
             0.3333333333333333,
             "#9c179e"
            ],
            [
             0.4444444444444444,
             "#bd3786"
            ],
            [
             0.5555555555555556,
             "#d8576b"
            ],
            [
             0.6666666666666666,
             "#ed7953"
            ],
            [
             0.7777777777777778,
             "#fb9f3a"
            ],
            [
             0.8888888888888888,
             "#fdca26"
            ],
            [
             1,
             "#f0f921"
            ]
           ]
          },
          "colorway": [
           "#636efa",
           "#EF553B",
           "#00cc96",
           "#ab63fa",
           "#FFA15A",
           "#19d3f3",
           "#FF6692",
           "#B6E880",
           "#FF97FF",
           "#FECB52"
          ],
          "font": {
           "color": "#2a3f5f"
          },
          "geo": {
           "bgcolor": "white",
           "lakecolor": "white",
           "landcolor": "#E5ECF6",
           "showlakes": true,
           "showland": true,
           "subunitcolor": "white"
          },
          "hoverlabel": {
           "align": "left"
          },
          "hovermode": "closest",
          "mapbox": {
           "style": "light"
          },
          "paper_bgcolor": "white",
          "plot_bgcolor": "#E5ECF6",
          "polar": {
           "angularaxis": {
            "gridcolor": "white",
            "linecolor": "white",
            "ticks": ""
           },
           "bgcolor": "#E5ECF6",
           "radialaxis": {
            "gridcolor": "white",
            "linecolor": "white",
            "ticks": ""
           }
          },
          "scene": {
           "xaxis": {
            "backgroundcolor": "#E5ECF6",
            "gridcolor": "white",
            "gridwidth": 2,
            "linecolor": "white",
            "showbackground": true,
            "ticks": "",
            "zerolinecolor": "white"
           },
           "yaxis": {
            "backgroundcolor": "#E5ECF6",
            "gridcolor": "white",
            "gridwidth": 2,
            "linecolor": "white",
            "showbackground": true,
            "ticks": "",
            "zerolinecolor": "white"
           },
           "zaxis": {
            "backgroundcolor": "#E5ECF6",
            "gridcolor": "white",
            "gridwidth": 2,
            "linecolor": "white",
            "showbackground": true,
            "ticks": "",
            "zerolinecolor": "white"
           }
          },
          "shapedefaults": {
           "line": {
            "color": "#2a3f5f"
           }
          },
          "ternary": {
           "aaxis": {
            "gridcolor": "white",
            "linecolor": "white",
            "ticks": ""
           },
           "baxis": {
            "gridcolor": "white",
            "linecolor": "white",
            "ticks": ""
           },
           "bgcolor": "#E5ECF6",
           "caxis": {
            "gridcolor": "white",
            "linecolor": "white",
            "ticks": ""
           }
          },
          "title": {
           "x": 0.05
          },
          "xaxis": {
           "automargin": true,
           "gridcolor": "white",
           "linecolor": "white",
           "ticks": "",
           "title": {
            "standoff": 15
           },
           "zerolinecolor": "white",
           "zerolinewidth": 2
          },
          "yaxis": {
           "automargin": true,
           "gridcolor": "white",
           "linecolor": "white",
           "ticks": "",
           "title": {
            "standoff": 15
           },
           "zerolinecolor": "white",
           "zerolinewidth": 2
          }
         }
        },
        "title": {
         "text": "Radeon RX 7900 XTX Roofline Analysis: M = 1024"
        },
        "xaxis": {
         "anchor": "y",
         "domain": [
          0,
          1
         ],
         "title": {
          "text": "Arithmetic Intensity (TFLOPs/GB/s)"
         },
         "type": "log"
        },
        "yaxis": {
         "anchor": "x",
         "domain": [
          0,
          1
         ],
         "title": {
          "text": "Performance (TFLOPs)"
         },
         "type": "log"
        }
       }
      },
      "image/png": "[encoded data removed]"
     },
     "metadata": {},
     "output_type": "display_data"
    }
   ],
   "source": [
    "# Generate plots using the working implementation\n",
    "try:\n",
    "    peak_compute = result_set.accelerator_specs.get_peak_compute(DataType.FLOAT32)\n",
    "    peak_bandwidth = result_set.accelerator_specs.peak_bandwidth\n",
    "    \n",
    "    figures = generate_roofline_plots_by_group(result_set.dataframe, peak_compute, peak_bandwidth)\n",
    "    \n",
    "    # Save and display the figures\n",
    "    for group, fig in figures.items():\n",
    "        # Display the figure in the notebook\n",
    "        fig.show()\n",
    "        \n",
    "except Exception as e:\n",
    "    log.error(f\"Error during plotting: {e}\")\n",
    "    raise e"
   ]
  },
  {
   "cell_type": "markdown",
   "metadata": {},
   "source": [
    "## Conclusion\n",
    "\n",
    "This notebook has demonstrated:\n",
    "1. Setting up a GEMM kernel specification\n",
    "2. Profiling the kernel using the ComposableKernel engine\n",
    "3. Visualizing the results with roofline plots\n",
    "4. Improving the visualization with square root scaling for point sizes\n",
    "\n",
    "The square root scaling of the time_ms values for point sizes helps to make the visualization more effective, as extremely large or small execution times can distort the scatter plot."
   ]
  }
 ],
 "metadata": {
  "kernelspec": {
   "display_name": "Python (uv Env)",
   "language": "python",
   "name": "ck_roofline"
  },
  "language_info": {
   "codemirror_mode": {
    "name": "ipython",
    "version": 3
   },
   "file_extension": ".py",
   "mimetype": "text/x-python",
   "name": "python",
   "nbconvert_exporter": "python",
   "pygments_lexer": "ipython3",
   "version": "3.13.2"
  }
 },
 "nbformat": 4,
 "nbformat_minor": 4
}
