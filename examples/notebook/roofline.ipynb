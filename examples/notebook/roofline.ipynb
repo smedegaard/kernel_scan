{
 "cells": [
  {
   "cell_type": "code",
   "execution_count": 1,
   "id": "dc83d9e5-b010-422f-9287-d737c2f888da",
   "metadata": {},
   "outputs": [],
   "source": [
    "import polars as pl\n",
    "import plotly.express as px\n",
    "import plotly.graph_objects as go\n",
    "import re\n",
    "import glob\n",
    "import numpy as np"
   ]
  },
  {
   "cell_type": "code",
   "execution_count": 2,
   "id": "86418108-6a9e-4bb6-b1be-cf5ed44b9de2",
   "metadata": {
    "jupyter": {
     "source_hidden": true
    }
   },
   "outputs": [],
   "source": [
    "def load_gemm_data(path: str):\n",
    "    files = glob.glob(path + \"/*.jsonl\")\n",
    "    pattern = re.compile(r\"M(\\d+)_N(\\d+)_K(\\d+)\")\n",
    "    \n",
    "    dfs = []\n",
    "    for file in files:\n",
    "        match = pattern.search(file)\n",
    "        if match:\n",
    "            M, N, K = match.groups()\n",
    "            df = pl.read_ndjson(file).filter(pl.col(\"is_best\") == \"true\")\n",
    "            dfs.append(df)\n",
    "    \n",
    "    if dfs:\n",
    "        combined_df = pl.concat(dfs)\n",
    "    else:\n",
    "        raise RuntimeError(\"No data loaded\")\n",
    "    return combined_df"
   ]
  },
  {
   "cell_type": "code",
   "execution_count": 3,
   "id": "f735c592-9284-4380-b2e3-f2c107d155a7",
   "metadata": {},
   "outputs": [],
   "source": [
    "def calculate_roofline_data(df, peak_compute, peak_bandwidth):\n",
    "    df = df.with_columns([\n",
    "        (\n",
    "            (pl.col(\"M\") * pl.col(\"N\") * pl.col(\"K\")) /\n",
    "            (pl.col(\"M\") * pl.col(\"K\") + pl.col(\"N\") * pl.col(\"K\") + pl.col(\"M\") * pl.col(\"N\"))\n",
    "        ).alias(\"gemm_arithmetic_intensity\"),\n",
    "        (pl.col(\"M\").cast(pl.Utf8) + \"_\" + pl.col(\"N\").cast(pl.Utf8) + \"_\" + pl.col(\"K\").cast(pl.Utf8)).alias(\"group\")\n",
    "    ])\n",
    "\n",
    "    df = df.with_columns([\n",
    "        (peak_bandwidth * pl.col(\"gemm_arithmetic_intensity\")).alias(\"memory_constraint\")\n",
    "    ])\n",
    "\n",
    "    df = df.with_columns([\n",
    "        pl.min_horizontal(\n",
    "            peak_compute,\n",
    "            peak_bandwidth * pl.col(\"gemm_arithmetic_intensity\")\n",
    "        ).alias(\"attainable_performance\")\n",
    "    ])\n",
    "    return df"
   ]
  },
  {
   "cell_type": "code",
   "execution_count": 4,
   "id": "a83c1dbb-5c7b-48d0-9a9e-bb0cbfc5786d",
   "metadata": {},
   "outputs": [],
   "source": [
    "def generate_roofline_plot(combined_df):    \n",
    "    # Apply square root scaling to 'time_ms'\n",
    "    combined_df = combined_df.with_columns(\n",
    "        (pl.col(\"time_ms\").sqrt().alias(\"time_scaled\"))\n",
    "    )\n",
    "\n",
    "    # force categorical coloring of \"M\"\n",
    "    combined_df = combined_df.sort(\"M\")\n",
    "    combined_df = combined_df.cast({\"M\": pl.String})\n",
    "  \n",
    "    # Create main scatter plot \n",
    "    fig = px.scatter(\n",
    "        combined_df, \n",
    "        x=\"gemm_arithmetic_intensity\",\n",
    "        y=\"tflops\",\n",
    "        log_x=True,\n",
    "        log_y=True,\n",
    "        color=\"M\",\n",
    "        color_discrete_sequence=px.colors.qualitative.G10,\n",
    "        size=\"time_ms\",\n",
    "        hover_data={\n",
    "            \"time_scaled\": False,\n",
    "            \"time_ms\": True,\n",
    "            \"M\": True,\n",
    "            \"N\": True,\n",
    "            \"K\": True\n",
    "        },\n",
    "        labels={\n",
    "            \"arithmetic_intensity\": \"arithmetic Intensity (TFLOPs/GB/s)\",\n",
    "            \"tflops\": \"Performance (TFLOPs)\",\n",
    "            \"time_ms\": \"Execution Time (ms)\",\n",
    "        },\n",
    "        title=\"AMD RX 7900 XTX Roofline Analysis\",\n",
    "        height=600\n",
    "    )\n",
    "    \n",
    "    # Add roofline\n",
    "    fig.add_trace(go.Scatter(\n",
    "        x=combined_df[\"gemm_arithmetic_intensity\"].to_list(),\n",
    "        y=combined_df[\"attainable_performance\"].to_list(),\n",
    "        mode='lines',\n",
    "        line=dict(color='tomato', width=1),\n",
    "        opacity=0.45,\n",
    "        name='Theoretical Roofline'\n",
    "    ))\n",
    "    \n",
    "    return fig\n"
   ]
  },
  {
   "cell_type": "code",
   "execution_count": 5,
   "id": "43f963e0-e9d5-41c4-81fd-04d094ba7f39",
   "metadata": {},
   "outputs": [],
   "source": [
    "def generate_roofline_plots_by_group(combined_df):\n",
    "    # Apply square root scaling to 'time_ms'\n",
    "    combined_df = combined_df.with_columns(\n",
    "        (pl.col(\"time_ms\").sqrt().alias(\"time_scaled\"))\n",
    "    )\n",
    "\n",
    "    # Force categorical coloring of \"M\"\n",
    "    combined_df = combined_df.sort(\"M\")\n",
    "    combined_df = combined_df.cast({\"M\": pl.String})\n",
    "\n",
    "    figures = {}\n",
    "    groups = combined_df.select(\"M\").unique().to_series().to_list()\n",
    "\n",
    "    for group in groups:\n",
    "        group_df = combined_df.filter(pl.col(\"M\") == group)\n",
    "        group_df = group_df.sort(\"gemm_arithmetic_intensity\")\n",
    "\n",
    "        # Create individual figure for each group\n",
    "        fig = px.scatter(\n",
    "            group_df,\n",
    "            x=\"gemm_arithmetic_intensity\",\n",
    "            y=\"tflops\",\n",
    "            log_x=True,\n",
    "            log_y=True,\n",
    "            color=\"M\",\n",
    "            color_discrete_sequence=px.colors.qualitative.G10,\n",
    "            size=\"time_scaled\",\n",
    "            hover_data={\n",
    "                \"time_scaled\": False,\n",
    "                \"time_ms\": True,\n",
    "                \"M\": True,\n",
    "                \"N\": True,\n",
    "                \"K\": True\n",
    "            },\n",
    "            labels={\n",
    "                \"gemm_arithmetic_intensity\": \"Arithmetic Intensity (TFLOPs/GB/s)\",\n",
    "                \"tflops\": \"Performance (TFLOPs)\",\n",
    "                \"time_ms\": \"Execution Time (ms)\",\n",
    "            },\n",
    "            title=f\"AMD RX 7900 XTX Roofline Analysis: M = {group}, N=K={N}\",\n",
    "            height=600\n",
    "        )\n",
    "\n",
    "        # Add group-specific roofline\n",
    "        fig.add_trace(go.Scatter(\n",
    "            x=group_df[\"gemm_arithmetic_intensity\"].to_list(),\n",
    "            y=group_df[\"attainable_performance\"].to_list(),\n",
    "            mode='lines',\n",
    "            line=dict(width=1),\n",
    "            opacity=0.45,\n",
    "            name=f'Roofline'\n",
    "        ))\n",
    "\n",
    "        figures[group] = fig\n",
    "\n",
    "    return figures\n"
   ]
  },
  {
   "cell_type": "code",
   "execution_count": 6,
   "id": "53849821-4bae-42c0-b13f-8c1004b103b9",
   "metadata": {},
   "outputs": [],
   "source": [
    "# 61.44 TFLOPS = 61.44 * 1000 GFLOPS\n",
    "peak_compute = 61.44\n",
    "peak_bandwidth = 960"
   ]
  },
  {
   "cell_type": "markdown",
   "id": "16c66911-7a67-4355-999e-2067fc47e68f",
   "metadata": {},
   "source": [
    "# Roofline for RX 7900 XTX GPU\n",
    "\n",
    "Spec from https://en.wikipedia.org/wiki/List_of_AMD_graphics_processing_units\n",
    "\n",
    "Processing power for RX 7900 XTX in TFLPOS\n",
    "\n",
    "|Half|Single|Double|\n",
    "|---|---|---|\n",
    "|61.44|61.44|0.960|\n",
    "\n",
    "Memory bandwidth in GB/s\n",
    "\n",
    "960"
   ]
  },
  {
   "cell_type": "markdown",
   "id": "3c2fca34-b36e-4b0c-a2f2-2b1522e9a3bf",
   "metadata": {},
   "source": [
    "# Kernel Scan Results"
   ]
  },
  {
   "cell_type": "markdown",
   "id": "b957b353-4d89-4c2b-a1f4-26ca0ec6582e",
   "metadata": {},
   "source": [
    "# INT8"
   ]
  },
  {
   "cell_type": "code",
   "execution_count": 7,
   "id": "a4461454-011b-455e-8192-0e0f2d575eb7",
   "metadata": {
    "scrolled": true
   },
   "outputs": [
    {
     "ename": "RuntimeError",
     "evalue": "No data loaded",
     "output_type": "error",
     "traceback": [
      "\u001b[31m---------------------------------------------------------------------------\u001b[39m",
      "\u001b[31mRuntimeError\u001b[39m                              Traceback (most recent call last)",
      "\u001b[36mCell\u001b[39m\u001b[36m \u001b[39m\u001b[32mIn[7]\u001b[39m\u001b[32m, line 1\u001b[39m\n\u001b[32m----> \u001b[39m\u001b[32m1\u001b[39m df = \u001b[43mload_gemm_data\u001b[49m\u001b[43m(\u001b[49m\u001b[33;43m\"\u001b[39;49m\u001b[33;43mresults/**/INT8/**/\u001b[39;49m\u001b[33;43m\"\u001b[39;49m\u001b[43m)\u001b[49m\n\u001b[32m      2\u001b[39m df = calculate_roofline_data(df, peak_compute, peak_bandwidth)\n\u001b[32m      3\u001b[39m figs = generate_roofline_plots_by_group(df)\n",
      "\u001b[36mCell\u001b[39m\u001b[36m \u001b[39m\u001b[32mIn[2]\u001b[39m\u001b[32m, line 16\u001b[39m, in \u001b[36mload_gemm_data\u001b[39m\u001b[34m(path)\u001b[39m\n\u001b[32m     14\u001b[39m     combined_df = pl.concat(dfs)\n\u001b[32m     15\u001b[39m \u001b[38;5;28;01melse\u001b[39;00m:\n\u001b[32m---> \u001b[39m\u001b[32m16\u001b[39m     \u001b[38;5;28;01mraise\u001b[39;00m \u001b[38;5;167;01mRuntimeError\u001b[39;00m(\u001b[33m\"\u001b[39m\u001b[33mNo data loaded\u001b[39m\u001b[33m\"\u001b[39m)\n\u001b[32m     17\u001b[39m \u001b[38;5;28;01mreturn\u001b[39;00m combined_df\n",
      "\u001b[31mRuntimeError\u001b[39m: No data loaded"
     ]
    }
   ],
   "source": [
    "df = load_gemm_data(\"results/**/INT8/**/\")\n",
    "df = calculate_roofline_data(df, peak_compute, peak_bandwidth)\n",
    "figs = generate_roofline_plots_by_group(df)\n",
    "\n",
    "for group_name, fig in figs.items():\n",
    "    fig.show()"
   ]
  },
  {
   "cell_type": "markdown",
   "id": "bc294e35-34ec-4288-9fb0-e693f26396c2",
   "metadata": {},
   "source": [
    "# FLOAT16"
   ]
  },
  {
   "cell_type": "code",
   "execution_count": null,
   "id": "f261039a-6ae0-404a-b495-3e48ef40a809",
   "metadata": {},
   "outputs": [],
   "source": [
    "df = load_gemm_data(\"results/**/FLOAT16/**/\")\n",
    "df = calculate_roofline_data(df, peak_compute, peak_bandwidth)\n",
    "figs = generate_roofline_plots_by_group(df)\n",
    "\n",
    "for group_name, fig in figs.items():\n",
    "    fig.show()"
   ]
  },
  {
   "cell_type": "markdown",
   "id": "ff5eb799-b07d-44d0-b7da-259ae8f0921a",
   "metadata": {},
   "source": [
    "# BFLOAT16"
   ]
  },
  {
   "cell_type": "code",
   "execution_count": null,
   "id": "f2a272c3-4f74-4629-8154-5f8f0e2006a3",
   "metadata": {},
   "outputs": [],
   "source": [
    "df = load_gemm_data(\"results/**/BFLOAT16/**/\")\n",
    "df = calculate_roofline_data(df, peak_compute, peak_bandwidth)\n",
    "figs = generate_roofline_plots_by_group(df)\n",
    "\n",
    "for group_name, fig in figs.items():\n",
    "    fig.show()"
   ]
  },
  {
   "cell_type": "markdown",
   "id": "0444ae85-b53b-435c-8eac-96d064d32108",
   "metadata": {},
   "source": [
    "# Float 32\n",
    "\n",
    "`M=1,2,4` failed so we only see 6 scans"
   ]
  },
  {
   "cell_type": "code",
   "execution_count": null,
   "id": "5753e780-7b91-4414-9ff5-c1d7a62f03c7",
   "metadata": {},
   "outputs": [],
   "source": [
    "df = load_gemm_data(\"results/**/FLOAT32/**/\")\n",
    "df = calculate_roofline_data(df, peak_compute, peak_bandwidth)\n",
    "figs = generate_roofline_plots_by_group(df)\n",
    "\n",
    "for group_name, fig in figs.items():\n",
    "    fig.show()"
   ]
  }
 ],
 "metadata": {
  "kernelspec": {
   "display_name": "Python (uv Env)",
   "language": "python",
   "name": "ck_roofline"
  },
  "language_info": {
   "codemirror_mode": {
    "name": "ipython",
    "version": 3
   },
   "file_extension": ".py",
   "mimetype": "text/x-python",
   "name": "python",
   "nbconvert_exporter": "python",
   "pygments_lexer": "ipython3",
   "version": "3.13.2"
  }
 },
 "nbformat": 4,
 "nbformat_minor": 5
}
