{
 "cells": [
  {
   "cell_type": "markdown",
   "metadata": {},
   "source": [
    "# kernel_scan Quick Start\n",
    "\n",
    "This notebook demonstrates how to use the kernel_scan library to profile GEMM operations and analyze performance with roofline models."
   ]
  },
  {
   "cell_type": "code",
   "execution_count": 1,
   "metadata": {},
   "outputs": [],
   "source": [
    "import sys\n",
    "from pathlib import Path\n",
    "\n",
    "# Add the src directory to sys.path to import kernel_scan\n",
    "# Note: This is only needed when running from the repository\n",
    "project_root = Path.cwd().parent.parent.parent\n",
    "src_path = project_root / \"src\"\n",
    "sys.path.append(str(src_path))\n",
    "\n",
    "from kernel_scan.core.logging import configure_logging, get_logger\n",
    "from kernel_scan.api.operations.gemm import GemmScan, GemmPlotter\n",
    "from kernel_scan.core.types import DataType, EngineType\n",
    "\n",
    "# Configure logging with desired level\n",
    "configure_logging(level=\"debug\")\n",
    "log = get_logger(\"quickstart\")"
   ]
  },
  {
   "cell_type": "markdown",
   "metadata": {},
   "source": [
    "## Configure and Run a GEMM Scan\n",
    "\n",
    "We'll configure a simple GEMM scan with:\n",
    "- Data Type: FLOAT16\n",
    "- M values: 1, 2\n",
    "- N values: 64, 128\n",
    "- K = N for all test cases"
   ]
  },
  {
   "cell_type": "code",
   "execution_count": 2,
   "metadata": {},
   "outputs": [
    {
     "name": "stdout",
     "output_type": "stream",
     "text": [
      "2025-06-25 09:29:29,134 - kernel_scan.gemm - INFO - Created base output directory: results/gemm_scan_20250625_092929\n",
      "2025-06-25 09:29:29,134 - kernel_scan.gemm - INFO - Created plots directory: results/gemm_scan_20250625_092929/plots\n",
      "2025-06-25 09:29:29,134 - kernel_scan.gemm - INFO - \n",
      "================================================================================\n",
      "2025-06-25 09:29:29,134 - kernel_scan.gemm - INFO - GEMM TEST CASE MATRIX SUMMARY\n",
      "2025-06-25 09:29:29,135 - kernel_scan.gemm - INFO - ================================================================================\n",
      "2025-06-25 09:29:29,135 - kernel_scan.gemm - INFO - Total test cases: 4\n",
      "2025-06-25 09:29:29,135 - kernel_scan.gemm - INFO - Data types: FLOAT16\n",
      "2025-06-25 09:29:29,135 - kernel_scan.gemm - INFO - Cases per data type: 4\n",
      "2025-06-25 09:29:29,135 - kernel_scan.gemm - INFO - \n",
      "------------------------------------------------------------\n",
      "2025-06-25 09:29:29,135 - kernel_scan.gemm - INFO - TEST CASES FOR FLOAT16\n",
      "2025-06-25 09:29:29,136 - kernel_scan.gemm - INFO - ------------------------------------------------------------\n",
      "2025-06-25 09:29:29,136 - kernel_scan.gemm - INFO - Index  M        N        K        FLOPS        Matrix Size\n",
      "2025-06-25 09:29:29,136 - kernel_scan.gemm - INFO - ------------------------------------------------------------\n",
      "2025-06-25 09:29:29,136 - kernel_scan.gemm - INFO - 1      1        64       64       8,192        1×64×64\n",
      "2025-06-25 09:29:29,136 - kernel_scan.gemm - INFO - 2      2        64       64       16,384       2×64×64\n",
      "2025-06-25 09:29:29,136 - kernel_scan.gemm - INFO - 3      1        128      128      32,768       1×128×128\n",
      "2025-06-25 09:29:29,136 - kernel_scan.gemm - INFO - 4      2        128      128      65,536       2×128×128\n",
      "2025-06-25 09:29:29,136 - kernel_scan.gemm - INFO - \n",
      "Statistics for FLOAT16:\n",
      "2025-06-25 09:29:29,137 - kernel_scan.gemm - INFO -   M values: [1, 2]\n",
      "2025-06-25 09:29:29,137 - kernel_scan.gemm - INFO -   N values: [64, 128]\n",
      "2025-06-25 09:29:29,137 - kernel_scan.gemm - INFO -   K values: [64, 128]\n",
      "2025-06-25 09:29:29,137 - kernel_scan.gemm - INFO -   Total cases: 4\n",
      "2025-06-25 09:29:29,137 - kernel_scan.gemm - INFO -   Total FLOPS: 122,880\n",
      "2025-06-25 09:29:29,137 - kernel_scan.gemm - INFO - \n",
      "================================================================================\n",
      "2025-06-25 09:29:29,137 - kernel_scan.gemm - INFO - END OF TEST CASE MATRIX\n",
      "2025-06-25 09:29:29,137 - kernel_scan.gemm - INFO - ================================================================================\n",
      "\n",
      "2025-06-25 09:29:29,138 - kernel_scan.gemm - INFO - Setting up directories for 4 test cases\n",
      "2025-06-25 09:29:29,138 - kernel_scan.gemm - INFO - Created directory for FLOAT16: results/gemm_scan_20250625_092929/FLOAT16\n",
      "2025-06-25 09:29:29,139 - kernel_scan.gemm - INFO - Created directory for NK64: results/gemm_scan_20250625_092929/FLOAT16/NK64\n",
      "2025-06-25 09:29:29,139 - kernel_scan.gemm - INFO - Created directory for NK128: results/gemm_scan_20250625_092929/FLOAT16/NK128\n",
      "2025-06-25 09:29:29,139 - kernel_scan.gemm - INFO - \n",
      "================================================================================\n",
      "2025-06-25 09:29:29,140 - kernel_scan.gemm - INFO - GEMM TEST CASE MATRIX SUMMARY\n",
      "2025-06-25 09:29:29,140 - kernel_scan.gemm - INFO - ================================================================================\n",
      "2025-06-25 09:29:29,140 - kernel_scan.gemm - INFO - Total test cases: 4\n",
      "2025-06-25 09:29:29,140 - kernel_scan.gemm - INFO - Data types: FLOAT16\n",
      "2025-06-25 09:29:29,140 - kernel_scan.gemm - INFO - Cases per data type: 4\n",
      "2025-06-25 09:29:29,140 - kernel_scan.gemm - INFO - \n",
      "------------------------------------------------------------\n",
      "2025-06-25 09:29:29,141 - kernel_scan.gemm - INFO - TEST CASES FOR FLOAT16\n",
      "2025-06-25 09:29:29,141 - kernel_scan.gemm - INFO - ------------------------------------------------------------\n",
      "2025-06-25 09:29:29,141 - kernel_scan.gemm - INFO - Index  M        N        K        FLOPS        Matrix Size\n",
      "2025-06-25 09:29:29,141 - kernel_scan.gemm - INFO - ------------------------------------------------------------\n",
      "2025-06-25 09:29:29,141 - kernel_scan.gemm - INFO - 1      1        64       64       8,192        1×64×64\n",
      "2025-06-25 09:29:29,141 - kernel_scan.gemm - INFO - 2      2        64       64       16,384       2×64×64\n",
      "2025-06-25 09:29:29,141 - kernel_scan.gemm - INFO - 3      1        128      128      32,768       1×128×128\n",
      "2025-06-25 09:29:29,142 - kernel_scan.gemm - INFO - 4      2        128      128      65,536       2×128×128\n",
      "2025-06-25 09:29:29,142 - kernel_scan.gemm - INFO - \n",
      "Statistics for FLOAT16:\n",
      "2025-06-25 09:29:29,142 - kernel_scan.gemm - INFO -   M values: [1, 2]\n",
      "2025-06-25 09:29:29,142 - kernel_scan.gemm - INFO -   N values: [64, 128]\n",
      "2025-06-25 09:29:29,143 - kernel_scan.gemm - INFO -   K values: [64, 128]\n",
      "2025-06-25 09:29:29,143 - kernel_scan.gemm - INFO -   Total cases: 4\n",
      "2025-06-25 09:29:29,143 - kernel_scan.gemm - INFO -   Total FLOPS: 122,880\n",
      "2025-06-25 09:29:29,143 - kernel_scan.gemm - INFO - \n",
      "================================================================================\n",
      "2025-06-25 09:29:29,143 - kernel_scan.gemm - INFO - END OF TEST CASE MATRIX\n",
      "2025-06-25 09:29:29,143 - kernel_scan.gemm - INFO - ================================================================================\n",
      "\n",
      "2025-06-25 09:29:29,143 - kernel_scan.gemm - INFO - Generated 4 test cases\n",
      "2025-06-25 09:29:29,144 - kernel_scan.gemm - INFO - Starting GEMM performance scan...\n",
      "2025-06-25 09:29:29,144 - kernel_scan.gemm - INFO - Data types: ['FLOAT16']\n",
      "2025-06-25 09:29:29,144 - kernel_scan.gemm - INFO - N values: [64, 128]\n",
      "2025-06-25 09:29:29,144 - kernel_scan.gemm - INFO - M values: [1, 2]\n",
      "2025-06-25 09:29:29,144 - kernel_scan.gemm - INFO - K values: Same as N\n",
      "2025-06-25 09:29:29,144 - kernel_scan.gemm - INFO - Output directory: results/gemm_scan_20250625_092929\n",
      "2025-06-25 09:29:29,145 - kernel_scan.gemm - INFO - [1/4] Testing GEMM_M1_N64_K64_FLOAT16\n",
      "2025-06-25 09:29:29,252 - kernel_scan.core.specs - INFO - Detected AMD GPU: Radeon RX 7900 XTX\n",
      "2025-06-25 09:29:29,252 - kernel_scan.core.specs - INFO - Found matching GPU model: Radeon RX 7900 XTX from vendor AMD\n",
      "2025-06-25 09:29:29,253 - kernel_scan.api.engines.composable_kernel_engine - INFO - Detected hardware: Radeon RX 7900 XTX\n",
      "2025-06-25 09:29:29,253 - kernel_scan.api.engines.composable_kernel_engine - INFO - Running ckProfiler with arguments: /opt/rocm/bin/ckProfiler gemm 1 0 1 0 0 1 1 64 64 64 64 64 5 10 -o jsonl=results/gemm_scan_20250625_092929/FLOAT16/NK64/gemm_M1_N64_K64_float16.jsonl\n",
      "2025-06-25 09:29:31,926 - kernel_scan.gemm - INFO -   Profiling successful, results saved to: results/gemm_scan_20250625_092929/FLOAT16/NK64/gemm_M1_N64_K64_float16.jsonl\n",
      "2025-06-25 09:29:31,927 - kernel_scan.gemm - INFO - [2/4] Testing GEMM_M2_N64_K64_FLOAT16\n",
      "2025-06-25 09:29:31,927 - kernel_scan.api.engines.composable_kernel_engine - INFO - Running ckProfiler with arguments: /opt/rocm/bin/ckProfiler gemm 1 0 1 0 0 1 2 64 64 64 64 64 5 10 -o jsonl=results/gemm_scan_20250625_092929/FLOAT16/NK64/gemm_M2_N64_K64_float16.jsonl\n",
      "2025-06-25 09:29:34,610 - kernel_scan.gemm - INFO -   Profiling successful, results saved to: results/gemm_scan_20250625_092929/FLOAT16/NK64/gemm_M2_N64_K64_float16.jsonl\n",
      "2025-06-25 09:29:34,611 - kernel_scan.gemm - INFO - [3/4] Testing GEMM_M1_N128_K128_FLOAT16\n",
      "2025-06-25 09:29:34,611 - kernel_scan.api.engines.composable_kernel_engine - INFO - Running ckProfiler with arguments: /opt/rocm/bin/ckProfiler gemm 1 0 1 0 0 1 1 128 128 128 128 128 5 10 -o jsonl=results/gemm_scan_20250625_092929/FLOAT16/NK128/gemm_M1_N128_K128_float16.jsonl\n",
      "2025-06-25 09:29:37,307 - kernel_scan.gemm - INFO -   Profiling successful, results saved to: results/gemm_scan_20250625_092929/FLOAT16/NK128/gemm_M1_N128_K128_float16.jsonl\n",
      "2025-06-25 09:29:37,307 - kernel_scan.gemm - INFO - [4/4] Testing GEMM_M2_N128_K128_FLOAT16\n",
      "2025-06-25 09:29:37,308 - kernel_scan.api.engines.composable_kernel_engine - INFO - Running ckProfiler with arguments: /opt/rocm/bin/ckProfiler gemm 1 0 1 0 0 1 2 128 128 128 128 128 5 10 -o jsonl=results/gemm_scan_20250625_092929/FLOAT16/NK128/gemm_M2_N128_K128_float16.jsonl\n",
      "2025-06-25 09:29:39,996 - kernel_scan.gemm - INFO -   Profiling successful, results saved to: results/gemm_scan_20250625_092929/FLOAT16/NK128/gemm_M2_N128_K128_float16.jsonl\n"
     ]
    }
   ],
   "source": [
    "# Initialize the GemmScan object with default parameters\n",
    "scan = GemmScan()\n",
    "\n",
    "# Configure and run the scan using the fluent API\n",
    "results = (\n",
    "    scan.with_data_types([DataType.FLOAT16])\n",
    "    .for_n_values([64, 128])\n",
    "        #.for_n_values([64, 128])\n",
    "    .for_m_values([1, 2,])  # [1, 2, 4, 8, 16, 32, 64, 128, 256]\n",
    "        #.for_m_values([1, 2, 512, 1024, 4096])  # [1, 2, 4, 8, 16, 32, 64, 128, 256]\n",
    "    .with_k_equals_n()  # This sets K = N for all test cases\n",
    "    .with_engine_type(EngineType.COMPOSABLE_KERNEL)\n",
    "    .iterations(10)\n",
    "    .warmup(5)\n",
    "    .run()\n",
    ")"
   ]
  },
  {
   "cell_type": "code",
   "execution_count": 3,
   "metadata": {},
   "outputs": [
    {
     "name": "stdout",
     "output_type": "stream",
     "text": [
      "{'FLOAT16': [<kernel_scan.core.results.ProfileResultSet object at 0x701d8117ed50>, <kernel_scan.core.results.ProfileResultSet object at 0x701d811ba060>, <kernel_scan.core.results.ProfileResultSet object at 0x701d811be030>, <kernel_scan.core.results.ProfileResultSet object at 0x701d81185f50>]}\n"
     ]
    }
   ],
   "source": [
    "print(results)"
   ]
  },
  {
   "cell_type": "markdown",
   "metadata": {},
   "source": [
    "## Generate Roofline Plots\n",
    "\n",
    "Now we'll use the new GemmPlotter class to generate roofline plots for our results."
   ]
  },
  {
   "cell_type": "code",
   "execution_count": 4,
   "metadata": {},
   "outputs": [
    {
     "ename": "AttributeError",
     "evalue": "'NoneType' object has no attribute 'name'",
     "output_type": "error",
     "traceback": [
      "\u001b[31m---------------------------------------------------------------------------\u001b[39m",
      "\u001b[31mAttributeError\u001b[39m                            Traceback (most recent call last)",
      "\u001b[36mCell\u001b[39m\u001b[36m \u001b[39m\u001b[32mIn[4]\u001b[39m\u001b[32m, line 4\u001b[39m\n\u001b[32m      2\u001b[39m \u001b[38;5;28;01mfor\u001b[39;00m data_type, result_sets \u001b[38;5;129;01min\u001b[39;00m results.items():\n\u001b[32m      3\u001b[39m     \u001b[38;5;28;01mfor\u001b[39;00m result_set \u001b[38;5;129;01min\u001b[39;00m result_sets:\n\u001b[32m----> \u001b[39m\u001b[32m4\u001b[39m         figures = \u001b[43mGemmPlotter\u001b[49m\u001b[43m.\u001b[49m\u001b[43mgenerate_roofline_plots\u001b[49m\u001b[43m(\u001b[49m\u001b[43mresult_set\u001b[49m\u001b[43m,\u001b[49m\u001b[43m \u001b[49m\u001b[43mscan\u001b[49m\u001b[43m.\u001b[49m\u001b[43mprofiler\u001b[49m\u001b[43m.\u001b[49m\u001b[43maccelerator_spec\u001b[49m\u001b[43m)\u001b[49m\n\u001b[32m      6\u001b[39m \u001b[38;5;66;03m# Display the figures directly in the notebook\u001b[39;00m\n\u001b[32m      7\u001b[39m \u001b[38;5;66;03m#for precision_name, fig in figures.items():\u001b[39;00m\n\u001b[32m      8\u001b[39m     \u001b[38;5;66;03m#fig.show()\u001b[39;00m\n",
      "\u001b[36mFile \u001b[39m\u001b[32m~/projects/kernel_scan/src/kernel_scan/core/plots.py:111\u001b[39m, in \u001b[36mOperationPlotter.generate_roofline_plots\u001b[39m\u001b[34m(cls, result_set, accelerator_spec, title_prefix)\u001b[39m\n\u001b[32m     96\u001b[39m \u001b[38;5;250m\u001b[39m\u001b[33;03m\"\"\"\u001b[39;00m\n\u001b[32m     97\u001b[39m \u001b[33;03mGenerate interactive roofline plots for a specific data type.\u001b[39;00m\n\u001b[32m     98\u001b[39m \n\u001b[32m   (...)\u001b[39m\u001b[32m    106\u001b[39m \u001b[33;03m    Dictionary with a single entry keyed by data type name\u001b[39;00m\n\u001b[32m    107\u001b[39m \u001b[33;03m\"\"\"\u001b[39;00m\n\u001b[32m    108\u001b[39m \u001b[38;5;66;03m# Combine all result sets\u001b[39;00m\n\u001b[32m    109\u001b[39m \n\u001b[32m    110\u001b[39m \u001b[38;5;66;03m# Get hardware name for title\u001b[39;00m\n\u001b[32m--> \u001b[39m\u001b[32m111\u001b[39m hardware_name = \u001b[43maccelerator_spec\u001b[49m\u001b[43m.\u001b[49m\u001b[43mname\u001b[49m\n\u001b[32m    113\u001b[39m \u001b[38;5;66;03m# Calculate roofline data using operation-specific implementation\u001b[39;00m\n\u001b[32m    114\u001b[39m df = \u001b[38;5;28mcls\u001b[39m.calculate_roofline_data(result_set)\n",
      "\u001b[31mAttributeError\u001b[39m: 'NoneType' object has no attribute 'name'"
     ]
    }
   ],
   "source": [
    "# Use the GemmPlotter class to generate plots\n",
    "for data_type, result_sets in results.items():\n",
    "    for result_set in result_sets:\n",
    "        figures = GemmPlotter.generate_roofline_plots(result_set, scan.profiler.accelerator_spec)\n",
    "        \n",
    "# Display the figures directly in the notebook\n",
    "#for precision_name, fig in figures.items():\n",
    "    #fig.show()"
   ]
  },
  {
   "cell_type": "markdown",
   "metadata": {},
   "source": [
    "## Advanced: Accessing the Roofline Data Directly\n",
    "\n",
    "We can also access the raw data used to generate the roofline plots."
   ]
  },
  {
   "cell_type": "code",
   "execution_count": 7,
   "metadata": {},
   "outputs": [
    {
     "name": "stdout",
     "output_type": "stream",
     "text": [
      "2025-06-24 12:27:24,744 - kernel_scan.gemm - INFO - Filtered to 1 best results\n",
      "2025-06-24 12:27:24,744 - kernel_scan.gemm - INFO - Peak compute: 122.8 TFLOPS, Peak bandwidth: 960.0 GB/s\n"
     ]
    },
    {
     "data": {
      "text/html": [
       "<div><style>\n",
       ".dataframe > thead > tr,\n",
       ".dataframe > tbody > tr {\n",
       "  text-align: right;\n",
       "  white-space: pre-wrap;\n",
       "}\n",
       "</style>\n",
       "<small>shape: (1, 25)</small><table border=\"1\" class=\"dataframe\"><thead><tr><th>operation</th><th>time_ms</th><th>tflops</th><th>gb_per_sec</th><th>is_best</th><th>timestamp</th><th>N</th><th>M</th><th>layout_b</th><th>output_datatype</th><th>K</th><th>weight_datatype</th><th>input_datatype</th><th>layout_c</th><th>layout_a</th><th>datatype</th><th>operation_type</th><th>arithmetic_intensity</th><th>group</th><th>memory_constraint</th><th>attainable_performance</th><th>time_scaled</th><th>precision_format</th><th>peak_compute</th><th>peak_bandwidth</th></tr><tr><td>str</td><td>f64</td><td>f64</td><td>f64</td><td>bool</td><td>str</td><td>i64</td><td>i64</td><td>str</td><td>str</td><td>i64</td><td>str</td><td>str</td><td>str</td><td>str</td><td>str</td><td>str</td><td>f64</td><td>str</td><td>f64</td><td>f64</td><td>f64</td><td>str</td><td>f64</td><td>f64</td></tr></thead><tbody><tr><td>&quot;DeviceGemmDpp&lt;64, 1, 64, 64, 8…</td><td>0.006159</td><td>0.00133</td><td>1.37168</td><td>true</td><td>&quot;2025-06-24T10:18:46.965Z&quot;</td><td>64</td><td>1</td><td>&quot;RowMajor&quot;</td><td>&quot;f16&quot;</td><td>64</td><td>&quot;f16&quot;</td><td>&quot;f16&quot;</td><td>&quot;RowMajor&quot;</td><td>&quot;RowMajor&quot;</td><td>&quot;f16&quot;</td><td>&quot;gemm&quot;</td><td>0.969697</td><td>&quot;1_64_64&quot;</td><td>930.909091</td><td>122.8</td><td>0.078478</td><td>&quot;FLOAT16&quot;</td><td>122.8</td><td>960.0</td></tr></tbody></table></div>"
      ],
      "text/plain": [
       "shape: (1, 25)\n",
       "┌────────────┬──────────┬─────────┬────────────┬───┬───────────┬───────────┬───────────┬───────────┐\n",
       "│ operation  ┆ time_ms  ┆ tflops  ┆ gb_per_sec ┆ … ┆ time_scal ┆ precision ┆ peak_comp ┆ peak_band │\n",
       "│ ---        ┆ ---      ┆ ---     ┆ ---        ┆   ┆ ed        ┆ _format   ┆ ute       ┆ width     │\n",
       "│ str        ┆ f64      ┆ f64     ┆ f64        ┆   ┆ ---       ┆ ---       ┆ ---       ┆ ---       │\n",
       "│            ┆          ┆         ┆            ┆   ┆ f64       ┆ str       ┆ f64       ┆ f64       │\n",
       "╞════════════╪══════════╪═════════╪════════════╪═══╪═══════════╪═══════════╪═══════════╪═══════════╡\n",
       "│ DeviceGemm ┆ 0.006159 ┆ 0.00133 ┆ 1.37168    ┆ … ┆ 0.078478  ┆ FLOAT16   ┆ 122.8     ┆ 960.0     │\n",
       "│ Dpp<64, 1, ┆          ┆         ┆            ┆   ┆           ┆           ┆           ┆           │\n",
       "│ 64, 64, 8… ┆          ┆         ┆            ┆   ┆           ┆           ┆           ┆           │\n",
       "└────────────┴──────────┴─────────┴────────────┴───┴───────────┴───────────┴───────────┴───────────┘"
      ]
     },
     "metadata": {},
     "output_type": "display_data"
    },
    {
     "name": "stdout",
     "output_type": "stream",
     "text": [
      "\n",
      "Arithmetic Intensity Range: 0.9696969696969697 to 0.9696969696969697\n",
      "Performance Range (TFLOPS): 0.00133012 to 0.00133012\n"
     ]
    }
   ],
   "source": [
    "# Get the first result set for FLOAT16\n",
    "result_set = results.get(DataType.FLOAT16.name, [])[0] if results else None\n",
    "\n",
    "if result_set:\n",
    "    # Calculate roofline data directly\n",
    "    df = GemmPlotter.calculate_roofline_data(\n",
    "        result_set=result_set,\n",
    "        precision=DataType.FLOAT16\n",
    "    )\n",
    "    \n",
    "    # Display the DataFrame\n",
    "    display(df)\n",
    "    \n",
    "    # Show key metrics\n",
    "    print(f\"\\nArithmetic Intensity Range: {df['arithmetic_intensity'].min()} to {df['arithmetic_intensity'].max()}\")\n",
    "    print(f\"Performance Range (TFLOPS): {df['tflops'].min()} to {df['tflops'].max()}\")\n",
    "else:\n",
    "    print(\"No results available to analyze\")"
   ]
  },
  {
   "cell_type": "markdown",
   "metadata": {},
   "source": [
    "## Summary\n",
    "\n",
    "In this notebook, we've demonstrated:\n",
    "\n",
    "1. How to configure and run a GEMM scan with different matrix dimensions\n",
    "2. How to generate roofline plots using the GemmPlotter class\n",
    "3. How to access and analyze the raw roofline data\n",
    "\n",
    "This new architecture with operation-specific plotters makes it easy to extend the framework to support other operations beyond GEMM in the future."
   ]
  }
 ],
 "metadata": {
  "kernelspec": {
   "display_name": "Python 3 (ipykernel)",
   "language": "python",
   "name": "python3"
  },
  "language_info": {
   "codemirror_mode": {
    "name": "ipython",
    "version": 3
   },
   "file_extension": ".py",
   "mimetype": "text/x-python",
   "name": "python",
   "nbconvert_exporter": "python",
   "pygments_lexer": "ipython3",
   "version": "3.13.2"
  }
 },
 "nbformat": 4,
 "nbformat_minor": 4
}
